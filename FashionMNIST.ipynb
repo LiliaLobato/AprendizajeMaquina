{
 "cells": [
  {
   "cell_type": "markdown",
   "id": "3ec59c15",
   "metadata": {},
   "source": [
    "# Laboratorio Fashion MNIST\n",
    "### Lilia Lobato\n",
    "##### 22/02/2022\n",
    "Usando la plantilla de ML vista en clase, el código usado para MNIST y las bibliotecas sklearn y tensorflow, se pretende identificar prendas de ropa.  \n",
    "Se utiliza el conjunto de datos Fashion MNIST con 60 000 imágenes para entrenamiento y 10 000 imágenes para prueba.  \n",
    "Se va a probar el rendimiento de los siguientes algoritmos:\n",
    "* Logistic Regression\n",
    "* SVM\n",
    "* Random Forest\n",
    "* Neural Network (MLP)\n",
    "* CNN"
   ]
  },
  {
   "cell_type": "markdown",
   "id": "f4985c89",
   "metadata": {},
   "source": [
    "## 1. Lectura de Datos\n",
    "Fashion-MNIST es un dataset de imagenes de artículos de Zelando. Zelando es una compañia de e-commerce fundada en Berlin en 2008.  \n",
    "![OverviewFashionMNIST.png](https://i1.wp.com/datasmarts.net/es/wp-content/uploads/2019/10/fashion-mnist-sprite.png?fit=840%2C840&ssl=1) \n",
    "  \n",
    "Zelando busca que Fashion-MNIST sirva como un reemplazo directo del conjunto de datos MNIST original para comparar resultados; por esto comparte el mismo tamaño de imagen y estructura de las divisiones de entrenamiento y prueba.  \n",
    "Obtenemos los datos desde: [Kaggle Fashion MNIST](https://www.kaggle.com/zalando-research/fashionmnist/version/4?select=fashion-mnist_train.csv)\n"
   ]
  },
  {
   "cell_type": "code",
   "execution_count": 1,
   "id": "8c6960a0",
   "metadata": {},
   "outputs": [],
   "source": [
    "import pandas as pd\n",
    "train_df_raw = pd.read_csv(\"./FashionNMIST/fashion-mnist_train.csv\")\n",
    "test_df_raw = pd.read_csv(\"./FashionNMIST/fashion-mnist_test.csv\")"
   ]
  },
  {
   "cell_type": "markdown",
   "id": "60a62840",
   "metadata": {},
   "source": [
    "Este dataset cuenta con 784 features + label.  \n",
    "Es un subconjunto de un conjunto más grande disponible en [ZelandoResearch](https://github.com/zalandoresearch/fashion-mnist). Las prendas se normalizaron en tamaño y se centraron para crear una base de datos ideal para probar técnicas de aprendizaje y métodos de reconocimiento de patrones en datos reales con un esfuerzo mínimo en preprocesamiento y formateo.\n"
   ]
  },
  {
   "cell_type": "code",
   "execution_count": 2,
   "id": "7262b6d1",
   "metadata": {
    "scrolled": true
   },
   "outputs": [
    {
     "data": {
      "text/html": [
       "<div>\n",
       "<style scoped>\n",
       "    .dataframe tbody tr th:only-of-type {\n",
       "        vertical-align: middle;\n",
       "    }\n",
       "\n",
       "    .dataframe tbody tr th {\n",
       "        vertical-align: top;\n",
       "    }\n",
       "\n",
       "    .dataframe thead th {\n",
       "        text-align: right;\n",
       "    }\n",
       "</style>\n",
       "<table border=\"1\" class=\"dataframe\">\n",
       "  <thead>\n",
       "    <tr style=\"text-align: right;\">\n",
       "      <th></th>\n",
       "      <th>label</th>\n",
       "      <th>pixel1</th>\n",
       "      <th>pixel2</th>\n",
       "      <th>pixel3</th>\n",
       "      <th>pixel4</th>\n",
       "      <th>pixel5</th>\n",
       "      <th>pixel6</th>\n",
       "      <th>pixel7</th>\n",
       "      <th>pixel8</th>\n",
       "      <th>pixel9</th>\n",
       "      <th>...</th>\n",
       "      <th>pixel775</th>\n",
       "      <th>pixel776</th>\n",
       "      <th>pixel777</th>\n",
       "      <th>pixel778</th>\n",
       "      <th>pixel779</th>\n",
       "      <th>pixel780</th>\n",
       "      <th>pixel781</th>\n",
       "      <th>pixel782</th>\n",
       "      <th>pixel783</th>\n",
       "      <th>pixel784</th>\n",
       "    </tr>\n",
       "  </thead>\n",
       "  <tbody>\n",
       "    <tr>\n",
       "      <th>0</th>\n",
       "      <td>2</td>\n",
       "      <td>0</td>\n",
       "      <td>0</td>\n",
       "      <td>0</td>\n",
       "      <td>0</td>\n",
       "      <td>0</td>\n",
       "      <td>0</td>\n",
       "      <td>0</td>\n",
       "      <td>0</td>\n",
       "      <td>0</td>\n",
       "      <td>...</td>\n",
       "      <td>0</td>\n",
       "      <td>0</td>\n",
       "      <td>0</td>\n",
       "      <td>0</td>\n",
       "      <td>0</td>\n",
       "      <td>0</td>\n",
       "      <td>0</td>\n",
       "      <td>0</td>\n",
       "      <td>0</td>\n",
       "      <td>0</td>\n",
       "    </tr>\n",
       "    <tr>\n",
       "      <th>1</th>\n",
       "      <td>9</td>\n",
       "      <td>0</td>\n",
       "      <td>0</td>\n",
       "      <td>0</td>\n",
       "      <td>0</td>\n",
       "      <td>0</td>\n",
       "      <td>0</td>\n",
       "      <td>0</td>\n",
       "      <td>0</td>\n",
       "      <td>0</td>\n",
       "      <td>...</td>\n",
       "      <td>0</td>\n",
       "      <td>0</td>\n",
       "      <td>0</td>\n",
       "      <td>0</td>\n",
       "      <td>0</td>\n",
       "      <td>0</td>\n",
       "      <td>0</td>\n",
       "      <td>0</td>\n",
       "      <td>0</td>\n",
       "      <td>0</td>\n",
       "    </tr>\n",
       "    <tr>\n",
       "      <th>2</th>\n",
       "      <td>6</td>\n",
       "      <td>0</td>\n",
       "      <td>0</td>\n",
       "      <td>0</td>\n",
       "      <td>0</td>\n",
       "      <td>0</td>\n",
       "      <td>0</td>\n",
       "      <td>0</td>\n",
       "      <td>5</td>\n",
       "      <td>0</td>\n",
       "      <td>...</td>\n",
       "      <td>0</td>\n",
       "      <td>0</td>\n",
       "      <td>0</td>\n",
       "      <td>30</td>\n",
       "      <td>43</td>\n",
       "      <td>0</td>\n",
       "      <td>0</td>\n",
       "      <td>0</td>\n",
       "      <td>0</td>\n",
       "      <td>0</td>\n",
       "    </tr>\n",
       "    <tr>\n",
       "      <th>3</th>\n",
       "      <td>0</td>\n",
       "      <td>0</td>\n",
       "      <td>0</td>\n",
       "      <td>0</td>\n",
       "      <td>1</td>\n",
       "      <td>2</td>\n",
       "      <td>0</td>\n",
       "      <td>0</td>\n",
       "      <td>0</td>\n",
       "      <td>0</td>\n",
       "      <td>...</td>\n",
       "      <td>3</td>\n",
       "      <td>0</td>\n",
       "      <td>0</td>\n",
       "      <td>0</td>\n",
       "      <td>0</td>\n",
       "      <td>1</td>\n",
       "      <td>0</td>\n",
       "      <td>0</td>\n",
       "      <td>0</td>\n",
       "      <td>0</td>\n",
       "    </tr>\n",
       "    <tr>\n",
       "      <th>4</th>\n",
       "      <td>3</td>\n",
       "      <td>0</td>\n",
       "      <td>0</td>\n",
       "      <td>0</td>\n",
       "      <td>0</td>\n",
       "      <td>0</td>\n",
       "      <td>0</td>\n",
       "      <td>0</td>\n",
       "      <td>0</td>\n",
       "      <td>0</td>\n",
       "      <td>...</td>\n",
       "      <td>0</td>\n",
       "      <td>0</td>\n",
       "      <td>0</td>\n",
       "      <td>0</td>\n",
       "      <td>0</td>\n",
       "      <td>0</td>\n",
       "      <td>0</td>\n",
       "      <td>0</td>\n",
       "      <td>0</td>\n",
       "      <td>0</td>\n",
       "    </tr>\n",
       "  </tbody>\n",
       "</table>\n",
       "<p>5 rows × 785 columns</p>\n",
       "</div>"
      ],
      "text/plain": [
       "   label  pixel1  pixel2  pixel3  pixel4  pixel5  pixel6  pixel7  pixel8  \\\n",
       "0      2       0       0       0       0       0       0       0       0   \n",
       "1      9       0       0       0       0       0       0       0       0   \n",
       "2      6       0       0       0       0       0       0       0       5   \n",
       "3      0       0       0       0       1       2       0       0       0   \n",
       "4      3       0       0       0       0       0       0       0       0   \n",
       "\n",
       "   pixel9  ...  pixel775  pixel776  pixel777  pixel778  pixel779  pixel780  \\\n",
       "0       0  ...         0         0         0         0         0         0   \n",
       "1       0  ...         0         0         0         0         0         0   \n",
       "2       0  ...         0         0         0        30        43         0   \n",
       "3       0  ...         3         0         0         0         0         1   \n",
       "4       0  ...         0         0         0         0         0         0   \n",
       "\n",
       "   pixel781  pixel782  pixel783  pixel784  \n",
       "0         0         0         0         0  \n",
       "1         0         0         0         0  \n",
       "2         0         0         0         0  \n",
       "3         0         0         0         0  \n",
       "4         0         0         0         0  \n",
       "\n",
       "[5 rows x 785 columns]"
      ]
     },
     "execution_count": 2,
     "metadata": {},
     "output_type": "execute_result"
    }
   ],
   "source": [
    "train_df_raw.head()"
   ]
  },
  {
   "cell_type": "markdown",
   "id": "853f8696",
   "metadata": {},
   "source": [
    "### Estructura de los datos  \n",
    "Dentro del fashion mnist podemos encontrar los siguientes conjuntos de información:  \n",
    "Encontramos los datos de entrada en las columnas 'pixel*'. Contenemos 70000 números en total, cada uno de ellos tiene 784 pixeles."
   ]
  },
  {
   "cell_type": "code",
   "execution_count": 3,
   "id": "88ce3ced",
   "metadata": {},
   "outputs": [
    {
     "data": {
      "text/plain": [
       "Index(['label', 'pixel1', 'pixel2', 'pixel3', 'pixel4', 'pixel5', 'pixel6',\n",
       "       'pixel7', 'pixel8', 'pixel9',\n",
       "       ...\n",
       "       'pixel775', 'pixel776', 'pixel777', 'pixel778', 'pixel779', 'pixel780',\n",
       "       'pixel781', 'pixel782', 'pixel783', 'pixel784'],\n",
       "      dtype='object', length=785)"
      ]
     },
     "execution_count": 3,
     "metadata": {},
     "output_type": "execute_result"
    }
   ],
   "source": [
    "train_df_raw.keys()"
   ]
  },
  {
   "cell_type": "markdown",
   "id": "211bc4db",
   "metadata": {},
   "source": [
    "En label se encuentran la respuestas correctas de cada dato. Podemos ver que contamos con 10 valores únicos [0 ... 9]  \n",
    "* 0 - T-shirt/top \n",
    "* 1 - Trouser \n",
    "* 2 - Pullover \n",
    "* 3 - Dress \n",
    "* 4 - Coat \n",
    "* 5 - Sandal \n",
    "* 6 - Shirt \n",
    "* 7 - Sneaker \n",
    "* 8 - Bag \n",
    "* 9 - Ankle boot"
   ]
  },
  {
   "cell_type": "code",
   "execution_count": 4,
   "id": "487e2832",
   "metadata": {},
   "outputs": [
    {
     "data": {
      "text/plain": [
       "0        2\n",
       "1        9\n",
       "2        6\n",
       "3        0\n",
       "4        3\n",
       "        ..\n",
       "59995    9\n",
       "59996    1\n",
       "59997    8\n",
       "59998    8\n",
       "59999    7\n",
       "Name: label, Length: 60000, dtype: int64"
      ]
     },
     "execution_count": 4,
     "metadata": {},
     "output_type": "execute_result"
    }
   ],
   "source": [
    "train_df_raw[\"label\"]"
   ]
  },
  {
   "cell_type": "markdown",
   "id": "69474d1b",
   "metadata": {},
   "source": [
    "## 2. Procesamiento de Datos"
   ]
  },
  {
   "cell_type": "markdown",
   "id": "6b9f584b",
   "metadata": {},
   "source": [
    "Fashion MNIST ya tiene las imagenes pre-procesadas, están normalizadas en tamaño, centradas y sin escala de grises en el background.  \n",
    "Lo que falta es separar los datos de entrada y las etiquetas:\n",
    "- X => datos de entrada\n",
    "- y => datos del target o etiquetas con la respuesta"
   ]
  },
  {
   "cell_type": "code",
   "execution_count": 5,
   "id": "5b7fa197",
   "metadata": {},
   "outputs": [],
   "source": [
    "y_train = train_df_raw.pop(\"label\")\n",
    "y_test = test_df_raw.pop(\"label\")"
   ]
  },
  {
   "cell_type": "code",
   "execution_count": 6,
   "id": "1e949a5a",
   "metadata": {},
   "outputs": [],
   "source": [
    "X_train = train_df_raw\n",
    "X_test = test_df_raw"
   ]
  },
  {
   "cell_type": "markdown",
   "id": "cd6a0a29",
   "metadata": {},
   "source": [
    "### División de Datos\n",
    "Kaggle ya nos entrega los datos separados para el entrenamiento y para el testeo.  \n",
    "* Para el entrenamiento vamos a tomar 60000 imagenes.\n",
    "* Para el testeo vamos a tomar 10000 imagenes."
   ]
  },
  {
   "cell_type": "code",
   "execution_count": 7,
   "id": "48c231bc",
   "metadata": {},
   "outputs": [
    {
     "data": {
      "text/plain": [
       "((60000, 784), (10000, 784), (60000,), (10000,))"
      ]
     },
     "execution_count": 7,
     "metadata": {},
     "output_type": "execute_result"
    }
   ],
   "source": [
    "X_train.shape, X_test.shape, y_train.shape, y_test.shape"
   ]
  },
  {
   "cell_type": "markdown",
   "id": "6c505f6d",
   "metadata": {},
   "source": [
    "### Visualización de Datos\n",
    "Cada dato de entrada es un arreglo que contiene la información de cada pixel. A simple vista no es posible reconocer cual prenda es."
   ]
  },
  {
   "cell_type": "code",
   "execution_count": 9,
   "id": "11560095",
   "metadata": {},
   "outputs": [
    {
     "data": {
      "text/plain": [
       "array([  0,   0,   0,   0,   0,   0,   0,   0,   0,   0,   0,   0,   0,\n",
       "         0,   0,   0,   0,   0,   0,   0,   0,   0,   0,   0,   0,   0,\n",
       "         0,   0,   0,   0,   0,   0,   0,   0,   0,   0,   0,   0,   0,\n",
       "         0,   0,   0,   0,   0,   0,   0,   0,   0,   0,   0,   0,   0,\n",
       "         0,   0,   0,   0,   0,   0,   0,   0,   0,   0,   0,   0,   0,\n",
       "         0,   0,   0,   0,   0,   0,   0,   0,   0,   0,   0,   0,   0,\n",
       "         0,   0,   0,   0,   0,   0,   0,   0,   0,   0,   4,   0,   0,\n",
       "         0,   0,   0,  62,  61,  21,  29,  23,  51, 136,  61,   0,   0,\n",
       "         0,   0,   0,   0,   0,   0,   0,   0,   0,   0,   0,   0,   0,\n",
       "         0,   0,  88, 201, 228, 225, 255, 115,  62, 137, 255, 235, 222,\n",
       "       255, 135,   0,   0,   0,   0,   0,   0,   0,   0,   0,   0,   0,\n",
       "         0,   0,  47, 252, 234, 238, 224, 215, 215, 229, 108, 180, 207,\n",
       "       214, 224, 231, 249, 254,  45,   0,   0,   0,   0,   0,   0,   0,\n",
       "         0,   1,   0,   0, 214, 222, 210, 213, 224, 225, 217, 220, 254,\n",
       "       233, 219, 221, 217, 223, 221, 240, 254,   0,   0,   1,   0,   0,\n",
       "         0,   1,   0,   0,   0, 128, 237, 207, 224, 224, 207, 216, 214,\n",
       "       210, 208, 211, 221, 208, 219, 213, 226, 211, 237, 150,   0,   0,\n",
       "         0,   0,   0,   0,   2,   0,   0, 237, 222, 215, 207, 210, 212,\n",
       "       213, 206, 214, 213, 214, 213, 210, 215, 214, 206, 199, 218, 255,\n",
       "        13,   0,   2,   0,   0,   0,   4,   0,  85, 228, 210, 218, 200,\n",
       "       211, 208, 203, 215, 210, 209, 209, 210, 213, 211, 210, 217, 206,\n",
       "       213, 231, 175,   0,   0,   0,   0,   0,   0,   0, 217, 224, 215,\n",
       "       206, 205, 204, 217, 230, 222, 215, 224, 233, 228, 232, 228, 224,\n",
       "       207, 212, 215, 213, 229,  31,   0,   4,   0,   1,   0,  21, 225,\n",
       "       212, 212, 203, 211, 225, 193, 139, 136, 195, 147, 156, 139, 128,\n",
       "       162, 197, 223, 207, 220, 213, 232, 177,   0,   0,   0,   0,   0,\n",
       "       123, 226, 207, 211, 209, 205, 228, 158,  90, 103, 186, 138, 100,\n",
       "       121, 147, 158, 183, 226, 208, 214, 209, 216, 255,  13,   0,   1,\n",
       "         0,   0, 226, 219, 202, 208, 206, 205, 216, 184, 156, 150, 193,\n",
       "       170, 164, 168, 188, 186, 200, 219, 216, 213, 213, 211, 233, 148,\n",
       "         0,   0,   0,  45, 227, 204, 214, 211, 218, 222, 221, 230, 229,\n",
       "       221, 213, 224, 233, 226, 220, 219, 221, 224, 223, 217, 210, 218,\n",
       "       213, 254,   0,   0,   0, 157, 226, 203, 207, 211, 209, 215, 205,\n",
       "       198, 207, 208, 201, 201, 197, 203, 205, 210, 207, 213, 214, 214,\n",
       "       214, 213, 208, 234, 107,   0,   0, 235, 213, 204, 211, 210, 209,\n",
       "       213, 202, 197, 204, 215, 217, 213, 212, 210, 206, 212, 203, 211,\n",
       "       218, 215, 214, 208, 209, 222, 230,   0,  52, 255, 207, 200, 208,\n",
       "       213, 210, 210, 208, 207, 202, 201, 209, 216, 216, 216, 216, 214,\n",
       "       212, 205, 215, 201, 228, 208, 214, 212, 218,  25, 118, 217, 201,\n",
       "       206, 208, 213, 208, 205, 206, 210, 211, 202, 199, 207, 208, 209,\n",
       "       210, 207, 210, 210, 245, 139, 119, 255, 202, 203, 236, 114, 171,\n",
       "       238, 212, 203, 220, 216, 217, 209, 207, 205, 210, 211, 206, 204,\n",
       "       206, 209, 211, 215, 210, 206, 221, 242,   0, 224, 234, 230, 181,\n",
       "        26,  39, 145, 201, 255, 157, 115, 250, 200, 207, 206, 207, 213,\n",
       "       216, 206, 205, 206, 207, 206, 215, 207, 221, 238,   0,   0, 188,\n",
       "        85,   0,   0,   0,   0,   0,  31,   0, 129, 253, 190, 207, 208,\n",
       "       208, 208, 209, 211, 211, 209, 209, 209, 212, 201, 226, 165,   0,\n",
       "         0,   0,   0,   0,   0,   2,   0,   0,   0,   0,  89, 254, 199,\n",
       "       199, 192, 196, 198, 199, 201, 202, 203, 204, 203, 203, 200, 222,\n",
       "       155,   0,   3,   3,   3,   2,   0,   0,   0,   1,   5,   0,   0,\n",
       "       255, 218, 226, 232, 228, 224, 222, 220, 219, 219, 217, 221, 220,\n",
       "       212, 236,  95,   0,   2,   0,   0,   0,   0,   0,   0,   0,   0,\n",
       "         0,   0, 155, 194, 168, 170, 171, 173, 173, 179, 177, 175, 172,\n",
       "       171, 167, 161, 180,   0,   0,   1,   0,   1,   0,   0,   0,   0,\n",
       "         0,   0,   0,   0,   0,   0,   0,   0,   0,   0,   0,   0,   0,\n",
       "         0,   0,   0,   0,   0,   0,   0,   0,   0,   0,   0,   0,   0,\n",
       "         0,   0,   0,   0,   0,   0,   0,   0,   0,   0,   0,   0,   0,\n",
       "         0,   0,   0,   0,   0,   0,   0,   0,   0,   0,   0,   0,   0,\n",
       "         0,   0,   0,   0,   0,   0,   0,   0,   0,   0,   0,   0,   0,\n",
       "         0,   0,   0,   0,   0,   0,   0,   0,   0,   0,   0,   0,   0,\n",
       "         0,   0,   0,   0], dtype=int64)"
      ]
     },
     "execution_count": 9,
     "metadata": {},
     "output_type": "execute_result"
    }
   ],
   "source": [
    "X_train = X_train.to_numpy()\n",
    "X_test = X_test.to_numpy()\n",
    "X_train[0]"
   ]
  },
  {
   "cell_type": "markdown",
   "id": "944f65f0",
   "metadata": {},
   "source": [
    "Para poder comprobar que los datos realmente coinciden con las etiquetas, vamos a graficar los pixeles como imágenes de 28x28 e imprimimos su etiqueta correspondiente."
   ]
  },
  {
   "cell_type": "code",
   "execution_count": 36,
   "id": "cf996ce4",
   "metadata": {
    "scrolled": true
   },
   "outputs": [
    {
     "data": {
      "image/png": "[encoded data removed]",
      "text/plain": [
       "<Figure size 1080x360 with 8 Axes>"
      ]
     },
     "metadata": {
      "needs_background": "light"
     },
     "output_type": "display_data"
    }
   ],
   "source": [
    "%matplotlib inline\n",
    "import matplotlib as mpl\n",
    "import matplotlib.pyplot as plt\n",
    "\n",
    "fig, axis = plt.subplots(2, 4, figsize=(15, 5))\n",
    "for i, ax in enumerate(axis.flat):\n",
    "    un_numero = X_train[i]\n",
    "    any_digit_image = un_numero.reshape(28,28)\n",
    "    ax.imshow(any_digit_image, cmap = mpl.cm.binary, interpolation=\"nearest\")\n",
    "    digit = y_train[i]\n",
    "    ax.set(title = f\"Identificador de prenda: {digit}\");\n",
    "    ax.axis(\"off\")"
   ]
  },
  {
   "cell_type": "markdown",
   "id": "6b1fe2e8",
   "metadata": {},
   "source": [
    "### Normalización de Datos\n",
    "El algoritmo CNN converge mas rápido con datos entre [0 ... 1] que con datos entre [0 ... 255]"
   ]
  },
  {
   "cell_type": "code",
   "execution_count": 11,
   "id": "5d5456c3",
   "metadata": {},
   "outputs": [
    {
     "data": {
      "text/plain": [
       "array([0.        , 0.        , 0.        , 0.        , 0.        ,\n",
       "       0.        , 0.        , 0.        , 0.        , 0.        ,\n",
       "       0.        , 0.        , 0.        , 0.        , 0.        ,\n",
       "       0.        , 0.        , 0.        , 0.        , 0.        ,\n",
       "       0.        , 0.        , 0.        , 0.        , 0.        ,\n",
       "       0.        , 0.        , 0.        , 0.        , 0.        ,\n",
       "       0.        , 0.        , 0.        , 0.        , 0.        ,\n",
       "       0.        , 0.        , 0.        , 0.        , 0.        ,\n",
       "       0.        , 0.        , 0.        , 0.        , 0.        ,\n",
       "       0.        , 0.        , 0.        , 0.        , 0.        ,\n",
       "       0.        , 0.        , 0.        , 0.        , 0.        ,\n",
       "       0.        , 0.        , 0.        , 0.        , 0.        ,\n",
       "       0.        , 0.        , 0.        , 0.        , 0.        ,\n",
       "       0.        , 0.        , 0.        , 0.        , 0.        ,\n",
       "       0.        , 0.        , 0.        , 0.        , 0.        ,\n",
       "       0.        , 0.        , 0.        , 0.        , 0.        ,\n",
       "       0.        , 0.        , 0.        , 0.        , 0.        ,\n",
       "       0.        , 0.        , 0.        , 0.01568627, 0.        ,\n",
       "       0.        , 0.        , 0.        , 0.        , 0.24313725,\n",
       "       0.23921569, 0.08235294, 0.11372549, 0.09019608, 0.2       ,\n",
       "       0.53333333, 0.23921569, 0.        , 0.        , 0.        ,\n",
       "       0.        , 0.        , 0.        , 0.        , 0.        ,\n",
       "       0.        , 0.        , 0.        , 0.        , 0.        ,\n",
       "       0.        , 0.        , 0.        , 0.        , 0.34509804,\n",
       "       0.78823529, 0.89411765, 0.88235294, 1.        , 0.45098039,\n",
       "       0.24313725, 0.5372549 , 1.        , 0.92156863, 0.87058824,\n",
       "       1.        , 0.52941176, 0.        , 0.        , 0.        ,\n",
       "       0.        , 0.        , 0.        , 0.        , 0.        ,\n",
       "       0.        , 0.        , 0.        , 0.        , 0.        ,\n",
       "       0.18431373, 0.98823529, 0.91764706, 0.93333333, 0.87843137,\n",
       "       0.84313725, 0.84313725, 0.89803922, 0.42352941, 0.70588235,\n",
       "       0.81176471, 0.83921569, 0.87843137, 0.90588235, 0.97647059,\n",
       "       0.99607843, 0.17647059, 0.        , 0.        , 0.        ,\n",
       "       0.        , 0.        , 0.        , 0.        , 0.        ,\n",
       "       0.00392157, 0.        , 0.        , 0.83921569, 0.87058824,\n",
       "       0.82352941, 0.83529412, 0.87843137, 0.88235294, 0.85098039,\n",
       "       0.8627451 , 0.99607843, 0.91372549, 0.85882353, 0.86666667,\n",
       "       0.85098039, 0.8745098 , 0.86666667, 0.94117647, 0.99607843,\n",
       "       0.        , 0.        , 0.00392157, 0.        , 0.        ,\n",
       "       0.        , 0.00392157, 0.        , 0.        , 0.        ,\n",
       "       0.50196078, 0.92941176, 0.81176471, 0.87843137, 0.87843137,\n",
       "       0.81176471, 0.84705882, 0.83921569, 0.82352941, 0.81568627,\n",
       "       0.82745098, 0.86666667, 0.81568627, 0.85882353, 0.83529412,\n",
       "       0.88627451, 0.82745098, 0.92941176, 0.58823529, 0.        ,\n",
       "       0.        , 0.        , 0.        , 0.        , 0.        ,\n",
       "       0.00784314, 0.        , 0.        , 0.92941176, 0.87058824,\n",
       "       0.84313725, 0.81176471, 0.82352941, 0.83137255, 0.83529412,\n",
       "       0.80784314, 0.83921569, 0.83529412, 0.83921569, 0.83529412,\n",
       "       0.82352941, 0.84313725, 0.83921569, 0.80784314, 0.78039216,\n",
       "       0.85490196, 1.        , 0.05098039, 0.        , 0.00784314,\n",
       "       0.        , 0.        , 0.        , 0.01568627, 0.        ,\n",
       "       0.33333333, 0.89411765, 0.82352941, 0.85490196, 0.78431373,\n",
       "       0.82745098, 0.81568627, 0.79607843, 0.84313725, 0.82352941,\n",
       "       0.81960784, 0.81960784, 0.82352941, 0.83529412, 0.82745098,\n",
       "       0.82352941, 0.85098039, 0.80784314, 0.83529412, 0.90588235,\n",
       "       0.68627451, 0.        , 0.        , 0.        , 0.        ,\n",
       "       0.        , 0.        , 0.        , 0.85098039, 0.87843137,\n",
       "       0.84313725, 0.80784314, 0.80392157, 0.8       , 0.85098039,\n",
       "       0.90196078, 0.87058824, 0.84313725, 0.87843137, 0.91372549,\n",
       "       0.89411765, 0.90980392, 0.89411765, 0.87843137, 0.81176471,\n",
       "       0.83137255, 0.84313725, 0.83529412, 0.89803922, 0.12156863,\n",
       "       0.        , 0.01568627, 0.        , 0.00392157, 0.        ,\n",
       "       0.08235294, 0.88235294, 0.83137255, 0.83137255, 0.79607843,\n",
       "       0.82745098, 0.88235294, 0.75686275, 0.54509804, 0.53333333,\n",
       "       0.76470588, 0.57647059, 0.61176471, 0.54509804, 0.50196078,\n",
       "       0.63529412, 0.77254902, 0.8745098 , 0.81176471, 0.8627451 ,\n",
       "       0.83529412, 0.90980392, 0.69411765, 0.        , 0.        ,\n",
       "       0.        , 0.        , 0.        , 0.48235294, 0.88627451,\n",
       "       0.81176471, 0.82745098, 0.81960784, 0.80392157, 0.89411765,\n",
       "       0.61960784, 0.35294118, 0.40392157, 0.72941176, 0.54117647,\n",
       "       0.39215686, 0.4745098 , 0.57647059, 0.61960784, 0.71764706,\n",
       "       0.88627451, 0.81568627, 0.83921569, 0.81960784, 0.84705882,\n",
       "       1.        , 0.05098039, 0.        , 0.00392157, 0.        ,\n",
       "       0.        , 0.88627451, 0.85882353, 0.79215686, 0.81568627,\n",
       "       0.80784314, 0.80392157, 0.84705882, 0.72156863, 0.61176471,\n",
       "       0.58823529, 0.75686275, 0.66666667, 0.64313725, 0.65882353,\n",
       "       0.7372549 , 0.72941176, 0.78431373, 0.85882353, 0.84705882,\n",
       "       0.83529412, 0.83529412, 0.82745098, 0.91372549, 0.58039216,\n",
       "       0.        , 0.        , 0.        , 0.17647059, 0.89019608,\n",
       "       0.8       , 0.83921569, 0.82745098, 0.85490196, 0.87058824,\n",
       "       0.86666667, 0.90196078, 0.89803922, 0.86666667, 0.83529412,\n",
       "       0.87843137, 0.91372549, 0.88627451, 0.8627451 , 0.85882353,\n",
       "       0.86666667, 0.87843137, 0.8745098 , 0.85098039, 0.82352941,\n",
       "       0.85490196, 0.83529412, 0.99607843, 0.        , 0.        ,\n",
       "       0.        , 0.61568627, 0.88627451, 0.79607843, 0.81176471,\n",
       "       0.82745098, 0.81960784, 0.84313725, 0.80392157, 0.77647059,\n",
       "       0.81176471, 0.81568627, 0.78823529, 0.78823529, 0.77254902,\n",
       "       0.79607843, 0.80392157, 0.82352941, 0.81176471, 0.83529412,\n",
       "       0.83921569, 0.83921569, 0.83921569, 0.83529412, 0.81568627,\n",
       "       0.91764706, 0.41960784, 0.        , 0.        , 0.92156863,\n",
       "       0.83529412, 0.8       , 0.82745098, 0.82352941, 0.81960784,\n",
       "       0.83529412, 0.79215686, 0.77254902, 0.8       , 0.84313725,\n",
       "       0.85098039, 0.83529412, 0.83137255, 0.82352941, 0.80784314,\n",
       "       0.83137255, 0.79607843, 0.82745098, 0.85490196, 0.84313725,\n",
       "       0.83921569, 0.81568627, 0.81960784, 0.87058824, 0.90196078,\n",
       "       0.        , 0.20392157, 1.        , 0.81176471, 0.78431373,\n",
       "       0.81568627, 0.83529412, 0.82352941, 0.82352941, 0.81568627,\n",
       "       0.81176471, 0.79215686, 0.78823529, 0.81960784, 0.84705882,\n",
       "       0.84705882, 0.84705882, 0.84705882, 0.83921569, 0.83137255,\n",
       "       0.80392157, 0.84313725, 0.78823529, 0.89411765, 0.81568627,\n",
       "       0.83921569, 0.83137255, 0.85490196, 0.09803922, 0.4627451 ,\n",
       "       0.85098039, 0.78823529, 0.80784314, 0.81568627, 0.83529412,\n",
       "       0.81568627, 0.80392157, 0.80784314, 0.82352941, 0.82745098,\n",
       "       0.79215686, 0.78039216, 0.81176471, 0.81568627, 0.81960784,\n",
       "       0.82352941, 0.81176471, 0.82352941, 0.82352941, 0.96078431,\n",
       "       0.54509804, 0.46666667, 1.        , 0.79215686, 0.79607843,\n",
       "       0.9254902 , 0.44705882, 0.67058824, 0.93333333, 0.83137255,\n",
       "       0.79607843, 0.8627451 , 0.84705882, 0.85098039, 0.81960784,\n",
       "       0.81176471, 0.80392157, 0.82352941, 0.82745098, 0.80784314,\n",
       "       0.8       , 0.80784314, 0.81960784, 0.82745098, 0.84313725,\n",
       "       0.82352941, 0.80784314, 0.86666667, 0.94901961, 0.        ,\n",
       "       0.87843137, 0.91764706, 0.90196078, 0.70980392, 0.10196078,\n",
       "       0.15294118, 0.56862745, 0.78823529, 1.        , 0.61568627,\n",
       "       0.45098039, 0.98039216, 0.78431373, 0.81176471, 0.80784314,\n",
       "       0.81176471, 0.83529412, 0.84705882, 0.80784314, 0.80392157,\n",
       "       0.80784314, 0.81176471, 0.80784314, 0.84313725, 0.81176471,\n",
       "       0.86666667, 0.93333333, 0.        , 0.        , 0.7372549 ,\n",
       "       0.33333333, 0.        , 0.        , 0.        , 0.        ,\n",
       "       0.        , 0.12156863, 0.        , 0.50588235, 0.99215686,\n",
       "       0.74509804, 0.81176471, 0.81568627, 0.81568627, 0.81568627,\n",
       "       0.81960784, 0.82745098, 0.82745098, 0.81960784, 0.81960784,\n",
       "       0.81960784, 0.83137255, 0.78823529, 0.88627451, 0.64705882,\n",
       "       0.        , 0.        , 0.        , 0.        , 0.        ,\n",
       "       0.        , 0.00784314, 0.        , 0.        , 0.        ,\n",
       "       0.        , 0.34901961, 0.99607843, 0.78039216, 0.78039216,\n",
       "       0.75294118, 0.76862745, 0.77647059, 0.78039216, 0.78823529,\n",
       "       0.79215686, 0.79607843, 0.8       , 0.79607843, 0.79607843,\n",
       "       0.78431373, 0.87058824, 0.60784314, 0.        , 0.01176471,\n",
       "       0.01176471, 0.01176471, 0.00784314, 0.        , 0.        ,\n",
       "       0.        , 0.00392157, 0.01960784, 0.        , 0.        ,\n",
       "       1.        , 0.85490196, 0.88627451, 0.90980392, 0.89411765,\n",
       "       0.87843137, 0.87058824, 0.8627451 , 0.85882353, 0.85882353,\n",
       "       0.85098039, 0.86666667, 0.8627451 , 0.83137255, 0.9254902 ,\n",
       "       0.37254902, 0.        , 0.00784314, 0.        , 0.        ,\n",
       "       0.        , 0.        , 0.        , 0.        , 0.        ,\n",
       "       0.        , 0.        , 0.        , 0.60784314, 0.76078431,\n",
       "       0.65882353, 0.66666667, 0.67058824, 0.67843137, 0.67843137,\n",
       "       0.70196078, 0.69411765, 0.68627451, 0.6745098 , 0.67058824,\n",
       "       0.65490196, 0.63137255, 0.70588235, 0.        , 0.        ,\n",
       "       0.00392157, 0.        , 0.00392157, 0.        , 0.        ,\n",
       "       0.        , 0.        , 0.        , 0.        , 0.        ,\n",
       "       0.        , 0.        , 0.        , 0.        , 0.        ,\n",
       "       0.        , 0.        , 0.        , 0.        , 0.        ,\n",
       "       0.        , 0.        , 0.        , 0.        , 0.        ,\n",
       "       0.        , 0.        , 0.        , 0.        , 0.        ,\n",
       "       0.        , 0.        , 0.        , 0.        , 0.        ,\n",
       "       0.        , 0.        , 0.        , 0.        , 0.        ,\n",
       "       0.        , 0.        , 0.        , 0.        , 0.        ,\n",
       "       0.        , 0.        , 0.        , 0.        , 0.        ,\n",
       "       0.        , 0.        , 0.        , 0.        , 0.        ,\n",
       "       0.        , 0.        , 0.        , 0.        , 0.        ,\n",
       "       0.        , 0.        , 0.        , 0.        , 0.        ,\n",
       "       0.        , 0.        , 0.        , 0.        , 0.        ,\n",
       "       0.        , 0.        , 0.        , 0.        , 0.        ,\n",
       "       0.        , 0.        , 0.        , 0.        , 0.        ,\n",
       "       0.        , 0.        , 0.        , 0.        , 0.        ,\n",
       "       0.        , 0.        , 0.        , 0.        ])"
      ]
     },
     "execution_count": 11,
     "metadata": {},
     "output_type": "execute_result"
    }
   ],
   "source": [
    "X_train_CNN = X_train/255.0\n",
    "X_test_CNN = X_test/255.0\n",
    "X_train_CNN[0]"
   ]
  },
  {
   "cell_type": "markdown",
   "id": "cff7ac51",
   "metadata": {},
   "source": [
    "### Reshape de Datos\n",
    "El algoritmo CNN recibe:\n",
    "* Un ndarray para los datos por lo que redimenzionamos las imagenes a 3 dimensiones (height = 28px, width = 28px , canal = 1)  \n",
    "* Un binary class matrix para las etiquetas por lo que convertimos el arreglo de etiquetas en una matriz que tiene valores binarios y tiene columnas iguales al número de categorías en los datos. (ex : 2 -> [0,0,1,0,0,0,0,0,0,0])"
   ]
  },
  {
   "cell_type": "code",
   "execution_count": 12,
   "id": "d3f73cce",
   "metadata": {},
   "outputs": [
    {
     "data": {
      "text/plain": [
       "((60000, 28, 28, 1), (10000, 28, 28, 1), (60000, 10), (10000, 10))"
      ]
     },
     "execution_count": 12,
     "metadata": {},
     "output_type": "execute_result"
    }
   ],
   "source": [
    "from keras.utils.np_utils import to_categorical\n",
    "\n",
    "X_train_CNN = X_train_CNN.reshape(-1,28,28,1)\n",
    "X_test_CNN = X_test_CNN.reshape(-1,28,28,1)\n",
    "y_train_CNN = to_categorical(y_train)\n",
    "y_test_CNN = to_categorical(y_test)\n",
    "\n",
    "X_train_CNN.shape, X_test_CNN.shape, y_train_CNN.shape, y_test_CNN.shape"
   ]
  },
  {
   "cell_type": "markdown",
   "id": "9255daf8",
   "metadata": {},
   "source": [
    "## 3. Creación de Modelos\n",
    "Por cada algoritmo, creamos un modelo."
   ]
  },
  {
   "cell_type": "markdown",
   "id": "6f71e4a5",
   "metadata": {},
   "source": [
    "### SGD Model\n",
    "Implementa modelos lineales regularizados con aprendizaje de  stochastic gradient descent.  \n",
    "SGD es simplemente una técnica de optimización y no corresponde a una familia específica de modelos de aprendizaje automático. Es simple pero muy eficiente para ajustar clasificadores lineales y regresores bajo funciones de pérdida convexas."
   ]
  },
  {
   "cell_type": "code",
   "execution_count": 13,
   "id": "19548ed8",
   "metadata": {},
   "outputs": [],
   "source": [
    "import numpy as np\n",
    "from sklearn.linear_model import SGDClassifier\n",
    "my_model_SDG = SGDClassifier(max_iter=5, tol=-np.infty, random_state=42)"
   ]
  },
  {
   "cell_type": "markdown",
   "id": "8e3922d7",
   "metadata": {},
   "source": [
    "### Gaussian Model\n",
    "Los modelos Naive Bayes son un conjunto de algoritmos de aprendizaje supervisado basados en la aplicación del teorema de Bayes suponiendo independencia condicional entre cada par de características dado el valor de la variable de clase.  \n",
    "GaussianNB implementa el algoritmo Gaussian Naive Bayes para la clasificación."
   ]
  },
  {
   "cell_type": "code",
   "execution_count": 14,
   "id": "5200ec42",
   "metadata": {},
   "outputs": [],
   "source": [
    "from sklearn.naive_bayes import GaussianNB\n",
    "my_model_Gaussian = GaussianNB()"
   ]
  },
  {
   "cell_type": "markdown",
   "id": "01d96b68",
   "metadata": {},
   "source": [
    "### SVM Model\n",
    "Support-Vector Machines (SVM) son un conjunto de algoritmos de aprendizaje supervisado desarrollados por Vladimir Vapnik y su equipo en los laboratorios AT&T.  \n",
    "Dado un conjunto de puntos, subconjunto de un conjunto mayor, en el que cada uno de ellos pertenece a una de dos posibles categorías, este modelo es capaz de predecir si un punto nuevo pertenece a una categoría o a la otra."
   ]
  },
  {
   "cell_type": "code",
   "execution_count": 15,
   "id": "45aed870",
   "metadata": {},
   "outputs": [],
   "source": [
    "from sklearn import svm\n",
    "my_model_SVM = svm.SVC()"
   ]
  },
  {
   "cell_type": "markdown",
   "id": "9841f4cf",
   "metadata": {},
   "source": [
    "### MLP Model\n",
    "Multi-layer Perceptron (MLP) es una red neuronal artificial formada por múltiples capas, de tal manera que tiene capacidad para resolver problemas que no son linealmente separables."
   ]
  },
  {
   "cell_type": "code",
   "execution_count": 16,
   "id": "5d18f7e8",
   "metadata": {},
   "outputs": [],
   "source": [
    "from sklearn.neural_network import MLPClassifier\n",
    "my_model_MPL = MLPClassifier()"
   ]
  },
  {
   "cell_type": "markdown",
   "id": "6e501be8",
   "metadata": {},
   "source": [
    "### Logistic Regression Mode\n",
    "Logistic Regression es un tipo de análisis de regresión utilizado para predecir el resultado de una variable categórica en función de las variables independientes o predictoras. Es útil para modelar la probabilidad de un evento ocurriendo en función de otros factores"
   ]
  },
  {
   "cell_type": "code",
   "execution_count": 17,
   "id": "807e52f2",
   "metadata": {},
   "outputs": [],
   "source": [
    "from sklearn.linear_model import LogisticRegression\n",
    "my_model_Regression = LogisticRegression(penalty=\"l1\", tol=0.01, solver=\"saga\")"
   ]
  },
  {
   "cell_type": "markdown",
   "id": "7d19697a",
   "metadata": {},
   "source": [
    "### Random Forest Model\n",
    "Random Forest es una combinación de árboles predictores tal que cada árbol depende de los valores de un vector aleatorio probado independientemente y con la misma distribución para cada uno de estos. Es una modificación sustancial de bagging que construye una larga colección de árboles no correlacionados y luego los promedia."
   ]
  },
  {
   "cell_type": "code",
   "execution_count": 18,
   "id": "e6332b7c",
   "metadata": {},
   "outputs": [],
   "source": [
    "from sklearn.ensemble import RandomForestClassifier\n",
    "my_model_RanForest = RandomForestClassifier(max_depth=20, random_state=0)"
   ]
  },
  {
   "cell_type": "markdown",
   "id": "a92f56be",
   "metadata": {},
   "source": [
    "### CNN Model\n",
    "CNN es un tipo de red neuronal artificial utilizada en el reconocimiento y procesamiento de imágenes que está específicamente diseñada para procesar datos de píxeles.  \n",
    "CNN Model from: [MNIST: Simple CNN keras](https://www.kaggle.com/elcaiseri/mnist-simple-cnn-keras-accuracy-0-99-top-1)  \n",
    "  \n",
    "Para este modelo usamos la API secuencial de Keras, donde se debe de poner una capa a la vez:  \n",
    "* **Capa convolucional (Conv2D):** Es un conjunto de filtros de aprendizaje. Las primeras 2 capas conv2D tienen 32 filtros, las siguientes 2 capas tienen 64 filtros, las siguientes 2 capas tienen 128 filtros y 256 para la ultima capa. ![kernel.png](https://miro.medium.com/max/1010/1*jIv2CLxdXsxvx60Urc11Tw.png) Cada filtro transforma una parte de la imagen (definida por el tamaño del kernel) usando un kernel filter, estos filtros pueden verse como una transformación de la imagen.  \n",
    "* **Capa de agrupación (MaxPool2D):** Esta capa actúa como un filtro de reducción de resolución. Toma 2 píxeles vecinos y elige el valor máximo. Estos se utilizan para reducir el costo computacional y el sobreajuste. Tenemos que elegir el tamaño de agrupación (es decir, el tamaño del área agrupada cada vez) cuanto más alta sea la dimensión de agrupación, más importante será la reducción de resolución.   \n",
    "* **Capa Flatten:** Este paso de aplanamiento es necesario para poder utilizar capas totalmente conectadas después de algunas capas convolucionales/maxpool. Combina todas las características locales encontradas de las capas convolucionales anteriores.\n",
    "* **Capa Fully-Connected (Dense):** Es un clasificador artificial de redes neuronales. En la última capa la red genera la distribución de probabilidad de cada clase.\n",
    "  \n",
    "Al combinar capas convolucionales y de agrupación, CNN puede combinar características locales y aprender más características globales de la imagen.  "
   ]
  },
  {
   "cell_type": "code",
   "execution_count": 19,
   "id": "5325e295",
   "metadata": {},
   "outputs": [],
   "source": [
    "from keras.layers import Conv2D, Lambda, MaxPooling2D # convolution layers\n",
    "from keras.layers import Dense, Dropout, Flatten # core layers\n",
    "from keras.layers.normalization import BatchNormalization\n",
    "from keras.models import Sequential\n",
    "\n",
    "my_model_CNN = Sequential()\n",
    "my_model_CNN.add(Conv2D(filters=64, kernel_size = (3,3), activation=\"relu\", input_shape=(28,28,1)))\n",
    "my_model_CNN.add(Conv2D(filters=64, kernel_size = (3,3), activation=\"relu\"))\n",
    "\n",
    "my_model_CNN.add(MaxPooling2D(pool_size=(2,2)))\n",
    "my_model_CNN.add(BatchNormalization())\n",
    "my_model_CNN.add(Conv2D(filters=128, kernel_size = (3,3), activation=\"relu\"))\n",
    "my_model_CNN.add(Conv2D(filters=128, kernel_size = (3,3), activation=\"relu\"))\n",
    "\n",
    "my_model_CNN.add(MaxPooling2D(pool_size=(2,2)))\n",
    "my_model_CNN.add(BatchNormalization())    \n",
    "my_model_CNN.add(Conv2D(filters=256, kernel_size = (3,3), activation=\"relu\"))\n",
    "\n",
    "my_model_CNN.add(MaxPooling2D(pool_size=(2,2)))\n",
    "    \n",
    "my_model_CNN.add(Flatten())\n",
    "my_model_CNN.add(BatchNormalization())\n",
    "my_model_CNN.add(Dense(512,activation=\"relu\"))\n",
    "    \n",
    "my_model_CNN.add(Dense(10,activation=\"softmax\"))\n",
    "    \n",
    "my_model_CNN.compile(loss=\"categorical_crossentropy\", optimizer=\"adam\", metrics=[\"accuracy\"])"
   ]
  },
  {
   "cell_type": "markdown",
   "id": "936ddc0d",
   "metadata": {},
   "source": [
    "## 4. Ajuste del Modelo con Datos Históricos \n",
    "Para cada modelos, lo ajustamos usando los conjuntos de datos y etiquetas de entrenamiento.  \n",
    "Para la CNN, utiliazmos los conjuntos normalizados.  \n",
    "**NOTA:** el ajuste puede tomar entre 10-20 min "
   ]
  },
  {
   "cell_type": "markdown",
   "id": "57f2bd28",
   "metadata": {},
   "source": [
    "[Linear Classifier Documentation](https://scikit-learn.org/stable/modules/generated/sklearn.linear_model.SGDClassifier.html)"
   ]
  },
  {
   "cell_type": "code",
   "execution_count": 20,
   "id": "96b49d55",
   "metadata": {},
   "outputs": [
    {
     "data": {
      "text/plain": [
       "SGDClassifier(max_iter=5, random_state=42, tol=-inf)"
      ]
     },
     "execution_count": 20,
     "metadata": {},
     "output_type": "execute_result"
    }
   ],
   "source": [
    "my_model_SDG.fit(X_train, y_train)"
   ]
  },
  {
   "cell_type": "markdown",
   "id": "fcdbbcc7",
   "metadata": {},
   "source": [
    "[Gaussian Naive Bayes Documentation](https://scikit-learn.org/stable/modules/generated/sklearn.naive_bayes.GaussianNB.html?highlight=gaussian#sklearn.naive_bayes.GaussianNB)"
   ]
  },
  {
   "cell_type": "code",
   "execution_count": 21,
   "id": "dbcae43b",
   "metadata": {},
   "outputs": [
    {
     "data": {
      "text/plain": [
       "GaussianNB()"
      ]
     },
     "execution_count": 21,
     "metadata": {},
     "output_type": "execute_result"
    }
   ],
   "source": [
    "my_model_Gaussian.fit(X_train, y_train)"
   ]
  },
  {
   "cell_type": "markdown",
   "id": "fd6d2fc7",
   "metadata": {},
   "source": [
    "[Support Vector Machine Documentation](https://scikit-learn.org/stable/modules/svm.html)"
   ]
  },
  {
   "cell_type": "code",
   "execution_count": 22,
   "id": "4ba45d53",
   "metadata": {},
   "outputs": [
    {
     "data": {
      "text/plain": [
       "SVC()"
      ]
     },
     "execution_count": 22,
     "metadata": {},
     "output_type": "execute_result"
    }
   ],
   "source": [
    "my_model_SVM.fit(X_train, y_train)"
   ]
  },
  {
   "cell_type": "markdown",
   "id": "6ccafe5a",
   "metadata": {},
   "source": [
    "[Multi-layer Perceptron Classifier Documentation](https://scikit-learn.org/stable/modules/neural_networks_supervised.html#multi-layer-perceptron)"
   ]
  },
  {
   "cell_type": "code",
   "execution_count": 23,
   "id": "a73ed389",
   "metadata": {},
   "outputs": [
    {
     "data": {
      "text/plain": [
       "MLPClassifier()"
      ]
     },
     "execution_count": 23,
     "metadata": {},
     "output_type": "execute_result"
    }
   ],
   "source": [
    "my_model_MPL.fit(X_train, y_train)"
   ]
  },
  {
   "cell_type": "markdown",
   "id": "cdcc1370",
   "metadata": {},
   "source": [
    "[Logistic Regression Documentation](https://scikit-learn.org/stable/auto_examples/linear_model/plot_sparse_logistic_regression_mnist.html#sphx-glr-auto-examples-linear-model-plot-sparse-logistic-regression-mnist-py)"
   ]
  },
  {
   "cell_type": "code",
   "execution_count": 24,
   "id": "1c9516b8",
   "metadata": {},
   "outputs": [
    {
     "data": {
      "text/plain": [
       "LogisticRegression(penalty='l1', solver='saga', tol=0.01)"
      ]
     },
     "execution_count": 24,
     "metadata": {},
     "output_type": "execute_result"
    }
   ],
   "source": [
    "my_model_Regression.fit(X_train, y_train)"
   ]
  },
  {
   "cell_type": "markdown",
   "id": "f70db7db",
   "metadata": {},
   "source": [
    "[Random Forest Documentation](https://scikit-learn.org/stable/modules/generated/sklearn.ensemble.RandomForestClassifier.html?highlight=random%20forest#sklearn.ensemble.RandomForestClassifier)"
   ]
  },
  {
   "cell_type": "code",
   "execution_count": 25,
   "id": "9821d6f5",
   "metadata": {},
   "outputs": [
    {
     "data": {
      "text/plain": [
       "RandomForestClassifier(max_depth=20, random_state=0)"
      ]
     },
     "execution_count": 25,
     "metadata": {},
     "output_type": "execute_result"
    }
   ],
   "source": [
    "my_model_RanForest.fit(X_train, y_train)"
   ]
  },
  {
   "cell_type": "markdown",
   "id": "d53b69e4",
   "metadata": {},
   "source": [
    "[CNN Documentation](https://www.kaggle.com/elcaiseri/mnist-simple-cnn-keras-accuracy-0-99-top-1)"
   ]
  },
  {
   "cell_type": "code",
   "execution_count": 26,
   "id": "a4081181",
   "metadata": {},
   "outputs": [
    {
     "name": "stdout",
     "output_type": "stream",
     "text": [
      "Epoch 1/5\n",
      "750/750 [==============================] - 195s 260ms/step - loss: 0.4193 - accuracy: 0.8466 - val_loss: 0.3296 - val_accuracy: 0.8806\n",
      "Epoch 2/5\n",
      "750/750 [==============================] - 197s 263ms/step - loss: 0.2731 - accuracy: 0.8997 - val_loss: 0.2761 - val_accuracy: 0.9016\n",
      "Epoch 3/5\n",
      "750/750 [==============================] - 200s 266ms/step - loss: 0.2277 - accuracy: 0.9163 - val_loss: 0.2495 - val_accuracy: 0.9144\n",
      "Epoch 4/5\n",
      "750/750 [==============================] - 198s 264ms/step - loss: 0.1972 - accuracy: 0.9274 - val_loss: 0.2436 - val_accuracy: 0.9133\n",
      "Epoch 5/5\n",
      "750/750 [==============================] - 199s 265ms/step - loss: 0.1707 - accuracy: 0.9356 - val_loss: 0.2404 - val_accuracy: 0.9191\n"
     ]
    },
    {
     "data": {
      "text/plain": [
       "<tensorflow.python.keras.callbacks.History at 0x1d3daa19b20>"
      ]
     },
     "execution_count": 26,
     "metadata": {},
     "output_type": "execute_result"
    }
   ],
   "source": [
    "epochs = 5\n",
    "batch_size = 64\n",
    "my_model_CNN.fit(X_train_CNN, y_train_CNN, batch_size=batch_size, validation_split=0.2, epochs=epochs)"
   ]
  },
  {
   "cell_type": "markdown",
   "id": "60819404",
   "metadata": {},
   "source": [
    "## 5. Predicción con Nuevos Datos\n",
    "Para comprobar que los modelos están correctamente realizados, vamos a predecir una prenda. Si el modelo nos regresa un número, entonces sabemos que el modelo está sano."
   ]
  },
  {
   "cell_type": "code",
   "execution_count": 27,
   "id": "e07e2e14",
   "metadata": {},
   "outputs": [
    {
     "data": {
      "text/html": [
       "<div>\n",
       "<style scoped>\n",
       "    .dataframe tbody tr th:only-of-type {\n",
       "        vertical-align: middle;\n",
       "    }\n",
       "\n",
       "    .dataframe tbody tr th {\n",
       "        vertical-align: top;\n",
       "    }\n",
       "\n",
       "    .dataframe thead th {\n",
       "        text-align: right;\n",
       "    }\n",
       "</style>\n",
       "<table border=\"1\" class=\"dataframe\">\n",
       "  <thead>\n",
       "    <tr style=\"text-align: right;\">\n",
       "      <th></th>\n",
       "      <th>RealNum</th>\n",
       "      <th>SGD</th>\n",
       "      <th>Gaussian</th>\n",
       "      <th>SVM</th>\n",
       "      <th>MLP</th>\n",
       "      <th>Regression</th>\n",
       "      <th>RanForest</th>\n",
       "      <th>CNN</th>\n",
       "    </tr>\n",
       "  </thead>\n",
       "  <tbody>\n",
       "    <tr>\n",
       "      <th>Predicted Number</th>\n",
       "      <td>5</td>\n",
       "      <td>5</td>\n",
       "      <td>7</td>\n",
       "      <td>5</td>\n",
       "      <td>5</td>\n",
       "      <td>5</td>\n",
       "      <td>5</td>\n",
       "      <td>5</td>\n",
       "    </tr>\n",
       "  </tbody>\n",
       "</table>\n",
       "</div>"
      ],
      "text/plain": [
       "                   RealNum    SGD    Gaussian    SVM    MLP    Regression   \\\n",
       "Predicted Number          5      5           7      5      5             5   \n",
       "\n",
       "                   RanForest    CNN   \n",
       "Predicted Number            5      5  "
      ]
     },
     "execution_count": 27,
     "metadata": {},
     "output_type": "execute_result"
    }
   ],
   "source": [
    "import pandas as pd\n",
    "\n",
    "un_numero_CNN = un_numero/255.0\n",
    "un_numero_CNN = un_numero_CNN.reshape(-1,28,28,1)\n",
    "\n",
    "predict = [[ digit, my_model_SDG.predict([un_numero])[0],\n",
    "            my_model_Gaussian.predict([un_numero])[0],\n",
    "            my_model_SVM.predict([un_numero])[0],\n",
    "            my_model_MPL.predict([un_numero])[0],\n",
    "            my_model_Regression.predict([un_numero])[0],\n",
    "            my_model_RanForest.predict([un_numero])[0],\n",
    "            np.argmax(my_model_CNN.predict([un_numero_CNN]), 1)[0]]]\n",
    "\n",
    "pd.DataFrame(predict, columns=[\" RealNum \",\" SGD \",\" Gaussian \",\" SVM \",\" MLP \",\" Regression \",\" RanForest \",\" CNN \"], \n",
    "             index=[\"Predicted Number\"])\n"
   ]
  },
  {
   "cell_type": "markdown",
   "id": "cb1f76fe",
   "metadata": {},
   "source": [
    "Tras comprobar que los modelos están funcionando con 1 dato, ahora generamos las predicciones del conjunto de datos de testeo."
   ]
  },
  {
   "cell_type": "code",
   "execution_count": 28,
   "id": "2fbc8ba2",
   "metadata": {},
   "outputs": [],
   "source": [
    "y_predict_SDG = my_model_SDG.predict(X_test)\n",
    "y_predict_Gaussian = my_model_Gaussian.predict(X_test)\n",
    "y_predict_SVM = my_model_SVM.predict(X_test)\n",
    "y_predict_MPL = my_model_MPL.predict(X_test)\n",
    "y_predict_Regression = my_model_Regression.predict(X_test)\n",
    "y_predict_RanForest = my_model_RanForest.predict(X_test)\n",
    "y_predict_CNN = my_model_CNN.predict(X_test_CNN)"
   ]
  },
  {
   "cell_type": "markdown",
   "id": "8357c3e7",
   "metadata": {},
   "source": [
    "## 6. Visualización de Resultados\n",
    "Para medir y comparar los modelos vamos a sacar una validación cruzada de la exactitud esperada de cada modelo con los datos de entrenamiento y con los datos de testeo.  \n",
    "* El mejor modelo es el SVM\n",
    "* El peor modelo es el Gaussian"
   ]
  },
  {
   "cell_type": "code",
   "execution_count": 29,
   "id": "79ec8a09",
   "metadata": {},
   "outputs": [
    {
     "data": {
      "text/html": [
       "<div>\n",
       "<style scoped>\n",
       "    .dataframe tbody tr th:only-of-type {\n",
       "        vertical-align: middle;\n",
       "    }\n",
       "\n",
       "    .dataframe tbody tr th {\n",
       "        vertical-align: top;\n",
       "    }\n",
       "\n",
       "    .dataframe thead th {\n",
       "        text-align: right;\n",
       "    }\n",
       "</style>\n",
       "<table border=\"1\" class=\"dataframe\">\n",
       "  <thead>\n",
       "    <tr style=\"text-align: right;\">\n",
       "      <th></th>\n",
       "      <th>SGD</th>\n",
       "      <th>Gaussian</th>\n",
       "      <th>SVM</th>\n",
       "      <th>MLP</th>\n",
       "      <th>Regression</th>\n",
       "      <th>RanForest</th>\n",
       "    </tr>\n",
       "  </thead>\n",
       "  <tbody>\n",
       "    <tr>\n",
       "      <th>Train Score</th>\n",
       "      <td>0.740017</td>\n",
       "      <td>0.594400</td>\n",
       "      <td>0.885633</td>\n",
       "      <td>0.854333</td>\n",
       "      <td>0.849467</td>\n",
       "      <td>0.8784</td>\n",
       "    </tr>\n",
       "    <tr>\n",
       "      <th>Test Score</th>\n",
       "      <td>0.787801</td>\n",
       "      <td>0.547602</td>\n",
       "      <td>0.854200</td>\n",
       "      <td>0.808201</td>\n",
       "      <td>0.834100</td>\n",
       "      <td>0.8547</td>\n",
       "    </tr>\n",
       "  </tbody>\n",
       "</table>\n",
       "</div>"
      ],
      "text/plain": [
       "                  SGD  Gaussian       SVM       MLP  Regression  RanForest\n",
       "Train Score  0.740017  0.594400  0.885633  0.854333    0.849467     0.8784\n",
       "Test Score   0.787801  0.547602  0.854200  0.808201    0.834100     0.8547"
      ]
     },
     "execution_count": 29,
     "metadata": {},
     "output_type": "execute_result"
    }
   ],
   "source": [
    "from sklearn.model_selection import cross_val_score\n",
    "\n",
    "val_score = [[sum(cross_val_score(my_model_SDG, X_train, y_train, cv=3, scoring=\"accuracy\"))/3,\n",
    "              sum(cross_val_score(my_model_Gaussian, X_train, y_train, cv=3, scoring=\"accuracy\"))/3,\n",
    "              sum(cross_val_score(my_model_SVM, X_train, y_train, cv=3, scoring=\"accuracy\"))/3,\n",
    "              sum(cross_val_score(my_model_MPL, X_train, y_train, cv=3, scoring=\"accuracy\"))/3,\n",
    "              sum(cross_val_score(my_model_Regression, X_train, y_train, cv=3, scoring=\"accuracy\"))/3,\n",
    "              sum(cross_val_score(my_model_RanForest, X_train, y_train, cv=3, scoring=\"accuracy\"))/3],\n",
    "             [sum(cross_val_score(my_model_SDG, X_test, y_test, cv=3, scoring=\"accuracy\"))/3,\n",
    "              sum(cross_val_score(my_model_Gaussian, X_test, y_test, cv=3, scoring=\"accuracy\"))/3,\n",
    "              sum(cross_val_score(my_model_SVM, X_test, y_test, cv=3, scoring=\"accuracy\"))/3,\n",
    "              sum(cross_val_score(my_model_MPL, X_test, y_test, cv=3, scoring=\"accuracy\"))/3,\n",
    "              sum(cross_val_score(my_model_Regression, X_test, y_test, cv=3, scoring=\"accuracy\"))/3,\n",
    "              sum(cross_val_score(my_model_RanForest, X_test, y_test, cv=3, scoring=\"accuracy\"))/3]]\n",
    "\n",
    "pd.DataFrame(val_score, columns=[\"SGD\",\"Gaussian\",\"SVM\",\"MLP\",\"Regression\",\"RanForest\"], index=[\"Train Score\", \"Test Score\"])"
   ]
  },
  {
   "cell_type": "markdown",
   "id": "d8f3374e",
   "metadata": {},
   "source": [
    "Si quiero analizar graficamente cual modelo y con cual número se tiene mayor error, analizamos las matrices de confusión.  \n",
    "* El mejor modelo es el CNN\n",
    "* El peor modelo es el Gaussian"
   ]
  },
  {
   "cell_type": "code",
   "execution_count": 30,
   "id": "df700f75",
   "metadata": {},
   "outputs": [
    {
     "data": {
      "image/png": "[encoded data removed]",
      "text/plain": [
       "<Figure size 1440x864 with 8 Axes>"
      ]
     },
     "metadata": {
      "needs_background": "light"
     },
     "output_type": "display_data"
    }
   ],
   "source": [
    "import seaborn as sns\n",
    "from sklearn.metrics import confusion_matrix\n",
    "\n",
    "y_predict_CNN_plt = np.argmax(y_predict_CNN, 1) # Decode Predicted labels\n",
    "y_test_CNN_plt = np.argmax(y_test_CNN, 1) # Decode labels\n",
    "\n",
    "cm_SDG = confusion_matrix(y_test, y_predict_SDG)\n",
    "cm_Gaussian = confusion_matrix(y_test, y_predict_Gaussian)\n",
    "cm_SVM = confusion_matrix(y_test, y_predict_SVM)\n",
    "cm_MPL = confusion_matrix(y_test, y_predict_MPL)\n",
    "cm_Regression = confusion_matrix(y_test, y_predict_Regression)\n",
    "cm_RanForest = confusion_matrix(y_test, y_predict_RanForest)\n",
    "cm_CNN = confusion_matrix(y_test_CNN_plt, y_predict_CNN_plt) # Confusion matrix\n",
    "cm_All=[cm_SDG,cm_Gaussian,cm_SVM,cm_MPL,cm_Regression,cm_RanForest,cm_CNN,cm_CNN]\n",
    "\n",
    "fig, axis = plt.subplots(2, 4, figsize=(20, 12))\n",
    "for i, ax in enumerate(axis.flat):\n",
    "    sns.heatmap(cm_All[i].T, cmap=plt.cm.RdPu , fmt=\"d\", annot=True, cbar=False, square=True, ax = ax)\n",
    "    ax.set(ylabel = \"True Values\")\n",
    "    ax.set(xlabel = \"Predicted Values\")\n",
    "    vnames = [name for name in globals() if globals()[name] is cm_All[i]]\n",
    "    ax.set(title = f\"Algorithm {vnames[0]}\")\n",
    "    if(i == 7):\n",
    "        ax.clear()\n",
    "        ax.set_axis_off()\n",
    "        continue"
   ]
  },
  {
   "cell_type": "markdown",
   "id": "5b26be23",
   "metadata": {},
   "source": [
    "Por último, comprobamos cuantas predicciones fueron correctas\n",
    "* El mejor modelo es el CNN\n",
    "* El peor modelo es el Gaussian"
   ]
  },
  {
   "cell_type": "code",
   "execution_count": 31,
   "id": "7da650c1",
   "metadata": {},
   "outputs": [
    {
     "data": {
      "text/html": [
       "<div>\n",
       "<style scoped>\n",
       "    .dataframe tbody tr th:only-of-type {\n",
       "        vertical-align: middle;\n",
       "    }\n",
       "\n",
       "    .dataframe tbody tr th {\n",
       "        vertical-align: top;\n",
       "    }\n",
       "\n",
       "    .dataframe thead th {\n",
       "        text-align: right;\n",
       "    }\n",
       "</style>\n",
       "<table border=\"1\" class=\"dataframe\">\n",
       "  <thead>\n",
       "    <tr style=\"text-align: right;\">\n",
       "      <th></th>\n",
       "      <th>SGD</th>\n",
       "      <th>Gaussian</th>\n",
       "      <th>SVM</th>\n",
       "      <th>MLP</th>\n",
       "      <th>Regression</th>\n",
       "      <th>RanForest</th>\n",
       "      <th>CNN</th>\n",
       "    </tr>\n",
       "  </thead>\n",
       "  <tbody>\n",
       "    <tr>\n",
       "      <th>Accuracy</th>\n",
       "      <td>0.8056</td>\n",
       "      <td>0.5914</td>\n",
       "      <td>0.8921</td>\n",
       "      <td>0.857</td>\n",
       "      <td>0.8528</td>\n",
       "      <td>0.8829</td>\n",
       "      <td>0.9213</td>\n",
       "    </tr>\n",
       "  </tbody>\n",
       "</table>\n",
       "</div>"
      ],
      "text/plain": [
       "             SGD  Gaussian     SVM    MLP  Regression  RanForest     CNN\n",
       "Accuracy  0.8056    0.5914  0.8921  0.857      0.8528     0.8829  0.9213"
      ]
     },
     "execution_count": 31,
     "metadata": {},
     "output_type": "execute_result"
    }
   ],
   "source": [
    "from sklearn.metrics import accuracy_score\n",
    "\n",
    "data = [[accuracy_score(y_test, y_predict_SDG), accuracy_score(y_test, y_predict_Gaussian), \n",
    "         accuracy_score(y_test, y_predict_SVM), accuracy_score(y_test, y_predict_MPL),\n",
    "         accuracy_score(y_test, y_predict_Regression), accuracy_score(y_test, y_predict_RanForest),\n",
    "         accuracy_score(y_test_CNN_plt, y_predict_CNN_plt)]]\n",
    "pd.DataFrame(data, columns=[\"SGD\",\"Gaussian\",\"SVM\",\"MLP\",\"Regression\",\"RanForest\", \"CNN\"], index=[\"Accuracy\"])"
   ]
  },
  {
   "cell_type": "markdown",
   "id": "ce780860",
   "metadata": {},
   "source": [
    "## 7. Prueba con Datos Externos al MNIST\n",
    "Para finalizar, vamos a intentar predecir tipo de prenda es una imagen. Estas imagenes las vamos descargamos de google, cambiamos su tamaño a 28x28 pixeles y aplicamos un filtro blanco y negro.  \n",
    "Creamos cada una de las prendas y, por cada una, la evaluamos con cada modelo."
   ]
  },
  {
   "cell_type": "code",
   "execution_count": 42,
   "id": "a89a17ee",
   "metadata": {},
   "outputs": [
    {
     "data": {
      "image/png": "[encoded data removed]",
      "text/plain": [
       "<Figure size 720x360 with 10 Axes>"
      ]
     },
     "metadata": {
      "needs_background": "light"
     },
     "output_type": "display_data"
    }
   ],
   "source": [
    "%matplotlib inline\n",
    "\n",
    "from PIL import Image\n",
    "MNISTDraw = [\"top0.jpg\",\"trouser1.jpg\",\"pullover2.jpg\",\n",
    "             \"dress3.jpg\",\"coat4.jpg\",\"sandal5.jpg\",\n",
    "             \"shirt6.jpg\",\"sneaker7.jpg\",\"bag8.jpg\",\n",
    "             \"ankleboot9.jpg\"]\n",
    "MNIST_SDG = []\n",
    "MNIST_GAU = []\n",
    "MNIST_SVM = []\n",
    "MNIST_MLP = []\n",
    "MNIST_REG = []\n",
    "MNIST_RFO = []\n",
    "MNIST_CNN = []\n",
    "\n",
    "import matplotlib\n",
    "import matplotlib.pyplot as plt\n",
    "\n",
    "fig, axis = plt.subplots(2, 5, figsize=(10,5))\n",
    "for i, ax in enumerate(axis.flat):\n",
    "    jpgfile = Image.open(\"./FashionNMIST/\"+MNISTDraw[i])\n",
    "    ax.imshow(jpgfile, cmap=matplotlib.cm.binary, interpolation=\"nearest\")\n",
    "    ax.axis(\"off\")\n",
    "    \n",
    "    MNISTDrawNP = np.array(jpgfile)\n",
    "    MNISTPredict = [MNISTDrawNP[:,:,1].reshape(784)]\n",
    "    MNISTPredict_CNN = MNISTDrawNP[:,:,1].reshape(784)/255.0\n",
    "    MNISTPredict_CNN = MNISTPredict_CNN.reshape(-1,28,28,1)\n",
    "    \n",
    "    MNIST_SDG = MNIST_SDG + [my_model_SDG.predict(MNISTPredict)[0]]\n",
    "    MNIST_GAU = MNIST_GAU + [my_model_Gaussian.predict(MNISTPredict)[0]]\n",
    "    MNIST_SVM = MNIST_SVM + [my_model_SVM.predict(MNISTPredict)[0]]\n",
    "    MNIST_MLP = MNIST_MLP + [my_model_MPL.predict(MNISTPredict)[0]]\n",
    "    MNIST_REG = MNIST_REG + [my_model_Regression.predict(MNISTPredict)[0]]\n",
    "    MNIST_RFO = MNIST_RFO + [my_model_RanForest.predict(MNISTPredict)[0]]\n",
    "    MNIST_CNN = MNIST_CNN + [np.argmax(my_model_CNN.predict([MNISTPredict_CNN]), 1)[0]]"
   ]
  },
  {
   "cell_type": "markdown",
   "id": "3f173850",
   "metadata": {},
   "source": [
    "Nuestros modelos parecian tener un alto índice de exactitud pero al meter datos creados en paint nos encontramos con resultados poco satisfactorios.\n",
    "* El mejor modelo es el Random Forest con 3 respuestas correctas y CNN con 3 respuestas correctas\n",
    "* La prenda que más veces se predice correctamente son las bolsas (8)"
   ]
  },
  {
   "cell_type": "code",
   "execution_count": 43,
   "id": "15344550",
   "metadata": {
    "scrolled": true
   },
   "outputs": [
    {
     "data": {
      "text/html": [
       "<div>\n",
       "<style scoped>\n",
       "    .dataframe tbody tr th:only-of-type {\n",
       "        vertical-align: middle;\n",
       "    }\n",
       "\n",
       "    .dataframe tbody tr th {\n",
       "        vertical-align: top;\n",
       "    }\n",
       "\n",
       "    .dataframe thead th {\n",
       "        text-align: right;\n",
       "    }\n",
       "</style>\n",
       "<table border=\"1\" class=\"dataframe\">\n",
       "  <thead>\n",
       "    <tr style=\"text-align: right;\">\n",
       "      <th></th>\n",
       "      <th>top0.jpg</th>\n",
       "      <th>trouser1.jpg</th>\n",
       "      <th>pullover2.jpg</th>\n",
       "      <th>dress3.jpg</th>\n",
       "      <th>coat4.jpg</th>\n",
       "      <th>sandal5.jpg</th>\n",
       "      <th>shirt6.jpg</th>\n",
       "      <th>sneaker7.jpg</th>\n",
       "      <th>bag8.jpg</th>\n",
       "      <th>ankleboot9.jpg</th>\n",
       "    </tr>\n",
       "  </thead>\n",
       "  <tbody>\n",
       "    <tr>\n",
       "      <th>SGD</th>\n",
       "      <td>8</td>\n",
       "      <td>8</td>\n",
       "      <td>8</td>\n",
       "      <td>8</td>\n",
       "      <td>8</td>\n",
       "      <td>8</td>\n",
       "      <td>8</td>\n",
       "      <td>8</td>\n",
       "      <td>8</td>\n",
       "      <td>8</td>\n",
       "    </tr>\n",
       "    <tr>\n",
       "      <th>Gaussian</th>\n",
       "      <td>6</td>\n",
       "      <td>6</td>\n",
       "      <td>6</td>\n",
       "      <td>6</td>\n",
       "      <td>6</td>\n",
       "      <td>6</td>\n",
       "      <td>6</td>\n",
       "      <td>6</td>\n",
       "      <td>6</td>\n",
       "      <td>6</td>\n",
       "    </tr>\n",
       "    <tr>\n",
       "      <th>SVM</th>\n",
       "      <td>5</td>\n",
       "      <td>5</td>\n",
       "      <td>5</td>\n",
       "      <td>5</td>\n",
       "      <td>5</td>\n",
       "      <td>5</td>\n",
       "      <td>5</td>\n",
       "      <td>5</td>\n",
       "      <td>5</td>\n",
       "      <td>5</td>\n",
       "    </tr>\n",
       "    <tr>\n",
       "      <th>MLP</th>\n",
       "      <td>9</td>\n",
       "      <td>5</td>\n",
       "      <td>9</td>\n",
       "      <td>8</td>\n",
       "      <td>9</td>\n",
       "      <td>9</td>\n",
       "      <td>9</td>\n",
       "      <td>9</td>\n",
       "      <td>5</td>\n",
       "      <td>0</td>\n",
       "    </tr>\n",
       "    <tr>\n",
       "      <th>Regression</th>\n",
       "      <td>8</td>\n",
       "      <td>8</td>\n",
       "      <td>8</td>\n",
       "      <td>8</td>\n",
       "      <td>8</td>\n",
       "      <td>8</td>\n",
       "      <td>8</td>\n",
       "      <td>8</td>\n",
       "      <td>8</td>\n",
       "      <td>0</td>\n",
       "    </tr>\n",
       "    <tr>\n",
       "      <th>RanForest</th>\n",
       "      <td>2</td>\n",
       "      <td>8</td>\n",
       "      <td>2</td>\n",
       "      <td>8</td>\n",
       "      <td>8</td>\n",
       "      <td>6</td>\n",
       "      <td>6</td>\n",
       "      <td>6</td>\n",
       "      <td>8</td>\n",
       "      <td>0</td>\n",
       "    </tr>\n",
       "    <tr>\n",
       "      <th>CNN</th>\n",
       "      <td>0</td>\n",
       "      <td>8</td>\n",
       "      <td>0</td>\n",
       "      <td>1</td>\n",
       "      <td>8</td>\n",
       "      <td>8</td>\n",
       "      <td>8</td>\n",
       "      <td>8</td>\n",
       "      <td>8</td>\n",
       "      <td>8</td>\n",
       "    </tr>\n",
       "  </tbody>\n",
       "</table>\n",
       "</div>"
      ],
      "text/plain": [
       "            top0.jpg  trouser1.jpg  pullover2.jpg  dress3.jpg  coat4.jpg  \\\n",
       "SGD                8             8              8           8          8   \n",
       "Gaussian           6             6              6           6          6   \n",
       "SVM                5             5              5           5          5   \n",
       "MLP                9             5              9           8          9   \n",
       "Regression         8             8              8           8          8   \n",
       "RanForest          2             8              2           8          8   \n",
       "CNN                0             8              0           1          8   \n",
       "\n",
       "            sandal5.jpg  shirt6.jpg  sneaker7.jpg  bag8.jpg  ankleboot9.jpg  \n",
       "SGD                   8           8             8         8               8  \n",
       "Gaussian              6           6             6         6               6  \n",
       "SVM                   5           5             5         5               5  \n",
       "MLP                   9           9             9         5               0  \n",
       "Regression            8           8             8         8               0  \n",
       "RanForest             6           6             6         8               0  \n",
       "CNN                   8           8             8         8               8  "
      ]
     },
     "execution_count": 43,
     "metadata": {},
     "output_type": "execute_result"
    }
   ],
   "source": [
    "data = [MNIST_SDG, MNIST_GAU, MNIST_SVM, MNIST_MLP, MNIST_REG, MNIST_RFO,MNIST_CNN]\n",
    "pd.DataFrame(data, columns=MNISTDraw, \n",
    "             index=[\"SGD\",\"Gaussian\",\"SVM\",\"MLP\",\"Regression\",\"RanForest\", \"CNN\"])"
   ]
  },
  {
   "cell_type": "markdown",
   "id": "3d3f28d1",
   "metadata": {},
   "source": [
    "Es bastante claro que los resultados son menos satisfactorios que con el MNIST. Era algo que esperaba ya que el dataset de entrada tiene mayor complejidad que el MNIST."
   ]
  }
 ],
 "metadata": {
  "kernelspec": {
   "display_name": "Python 3",
   "language": "python",
   "name": "python3"
  },
  "language_info": {
   "codemirror_mode": {
    "name": "ipython",
    "version": 3
   },
   "file_extension": ".py",
   "mimetype": "text/x-python",
   "name": "python",
   "nbconvert_exporter": "python",
   "pygments_lexer": "ipython3",
   "version": "3.8.5"
  }
 },
 "nbformat": 4,
 "nbformat_minor": 5
}
