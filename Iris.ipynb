{
 "cells": [
  {
   "cell_type": "markdown",
   "metadata": {},
   "source": [
    "# Laboratorio - Iris Flower Classification\n",
    "### Lilia Lobato\n",
    "##### 17/03/2022\n",
    "Utilizando el data set de Iris, realice un clasificador usando Regresión Logística para los tres tipos de flores Iris-Setosa, Iris-Versicolor e Iris-Virgínica."
   ]
  },
  {
   "cell_type": "markdown",
   "metadata": {},
   "source": [
    "## 1. Lectura de Datos\n",
    "El conjunto de datos de Iris se utilizó en el artículo clásico de R.A. Fisher de 1936, \"The Use of Multiple Measurements in Taxonomic Problems\", y también se puede encontrar en el Repositorio de Aprendizaje Automático de la UCI.  \n",
    "Incluye tres especies de iris con 50 muestras cada una, así como algunas propiedades sobre cada flor. Una especie de flor es linealmente separable de las otras dos, pero las otras dos no son linealmente separables entre sí.\n",
    "\n",
    "![OverviewIris.png](https://miro.medium.com/max/1400/1*f6KbPXwksAliMIsibFyGJw.png) \n",
    "  \n",
    "Obtenemos los datos desde: [Kaggle Iris Species](https://www.kaggle.com/datasets/uciml/iris)"
   ]
  },
  {
   "cell_type": "code",
   "execution_count": 1,
   "metadata": {},
   "outputs": [],
   "source": [
    "# Read data \n",
    "import pandas as pd\n",
    "import numpy as np\n",
    "import seaborn as sns\n",
    "import matplotlib.pyplot as plt\n",
    "\n",
    "df = pd.read_csv('./Iris/Iris.csv')"
   ]
  },
  {
   "cell_type": "markdown",
   "metadata": {},
   "source": [
    "### Estructura de los datos  \n",
    "Contamos con 150 flores, 50 de cada especia, con la siguiente información:\n",
    "* SepalLengthCm\n",
    "* SepalWidthCm\n",
    "* PetalLengthCm \n",
    "* PetalWidthCm"
   ]
  },
  {
   "cell_type": "code",
   "execution_count": 2,
   "metadata": {},
   "outputs": [
    {
     "name": "stdout",
     "output_type": "stream",
     "text": [
      "<class 'pandas.core.frame.DataFrame'>\n",
      "RangeIndex: 150 entries, 0 to 149\n",
      "Data columns (total 6 columns):\n",
      " #   Column         Non-Null Count  Dtype  \n",
      "---  ------         --------------  -----  \n",
      " 0   Id             150 non-null    int64  \n",
      " 1   SepalLengthCm  150 non-null    float64\n",
      " 2   SepalWidthCm   150 non-null    float64\n",
      " 3   PetalLengthCm  150 non-null    float64\n",
      " 4   PetalWidthCm   150 non-null    float64\n",
      " 5   Species        150 non-null    object \n",
      "dtypes: float64(4), int64(1), object(1)\n",
      "memory usage: 7.2+ KB\n"
     ]
    }
   ],
   "source": [
    "df.info()"
   ]
  },
  {
   "cell_type": "markdown",
   "metadata": {},
   "source": [
    "En \"Species\" se encuentran la respuestas correctas de cada flor.  \n",
    "* Iris-setosa\n",
    "* Iris-versicolor\n",
    "* Iris-virginica "
   ]
  },
  {
   "cell_type": "code",
   "execution_count": 3,
   "metadata": {},
   "outputs": [
    {
     "data": {
      "text/html": [
       "<div>\n",
       "<style scoped>\n",
       "    .dataframe tbody tr th:only-of-type {\n",
       "        vertical-align: middle;\n",
       "    }\n",
       "\n",
       "    .dataframe tbody tr th {\n",
       "        vertical-align: top;\n",
       "    }\n",
       "\n",
       "    .dataframe thead th {\n",
       "        text-align: right;\n",
       "    }\n",
       "</style>\n",
       "<table border=\"1\" class=\"dataframe\">\n",
       "  <thead>\n",
       "    <tr style=\"text-align: right;\">\n",
       "      <th></th>\n",
       "      <th>count</th>\n",
       "      <th>mean</th>\n",
       "      <th>std</th>\n",
       "      <th>min</th>\n",
       "      <th>25%</th>\n",
       "      <th>50%</th>\n",
       "      <th>75%</th>\n",
       "      <th>max</th>\n",
       "    </tr>\n",
       "  </thead>\n",
       "  <tbody>\n",
       "    <tr>\n",
       "      <th>Id</th>\n",
       "      <td>150.0</td>\n",
       "      <td>75.500000</td>\n",
       "      <td>43.445368</td>\n",
       "      <td>1.0</td>\n",
       "      <td>38.25</td>\n",
       "      <td>75.50</td>\n",
       "      <td>112.75</td>\n",
       "      <td>150.0</td>\n",
       "    </tr>\n",
       "    <tr>\n",
       "      <th>SepalLengthCm</th>\n",
       "      <td>150.0</td>\n",
       "      <td>5.843333</td>\n",
       "      <td>0.828066</td>\n",
       "      <td>4.3</td>\n",
       "      <td>5.10</td>\n",
       "      <td>5.80</td>\n",
       "      <td>6.40</td>\n",
       "      <td>7.9</td>\n",
       "    </tr>\n",
       "    <tr>\n",
       "      <th>SepalWidthCm</th>\n",
       "      <td>150.0</td>\n",
       "      <td>3.054000</td>\n",
       "      <td>0.433594</td>\n",
       "      <td>2.0</td>\n",
       "      <td>2.80</td>\n",
       "      <td>3.00</td>\n",
       "      <td>3.30</td>\n",
       "      <td>4.4</td>\n",
       "    </tr>\n",
       "    <tr>\n",
       "      <th>PetalLengthCm</th>\n",
       "      <td>150.0</td>\n",
       "      <td>3.758667</td>\n",
       "      <td>1.764420</td>\n",
       "      <td>1.0</td>\n",
       "      <td>1.60</td>\n",
       "      <td>4.35</td>\n",
       "      <td>5.10</td>\n",
       "      <td>6.9</td>\n",
       "    </tr>\n",
       "    <tr>\n",
       "      <th>PetalWidthCm</th>\n",
       "      <td>150.0</td>\n",
       "      <td>1.198667</td>\n",
       "      <td>0.763161</td>\n",
       "      <td>0.1</td>\n",
       "      <td>0.30</td>\n",
       "      <td>1.30</td>\n",
       "      <td>1.80</td>\n",
       "      <td>2.5</td>\n",
       "    </tr>\n",
       "  </tbody>\n",
       "</table>\n",
       "</div>"
      ],
      "text/plain": [
       "               count       mean        std  min    25%    50%     75%    max\n",
       "Id             150.0  75.500000  43.445368  1.0  38.25  75.50  112.75  150.0\n",
       "SepalLengthCm  150.0   5.843333   0.828066  4.3   5.10   5.80    6.40    7.9\n",
       "SepalWidthCm   150.0   3.054000   0.433594  2.0   2.80   3.00    3.30    4.4\n",
       "PetalLengthCm  150.0   3.758667   1.764420  1.0   1.60   4.35    5.10    6.9\n",
       "PetalWidthCm   150.0   1.198667   0.763161  0.1   0.30   1.30    1.80    2.5"
      ]
     },
     "execution_count": 3,
     "metadata": {},
     "output_type": "execute_result"
    }
   ],
   "source": [
    "df.describe().T"
   ]
  },
  {
   "cell_type": "markdown",
   "metadata": {},
   "source": [
    "El conjunto de datos está ordenado por la columna \"Species\" en el orden Iris-setosa, -versicolor, -viriginica. Por lo tanto, tenemos que revolver el conjunto de datos para asegurar una distribución uniforme de las clases al dividir el conjunto de datos en conjunto de entrenamiento y de prueba. "
   ]
  },
  {
   "cell_type": "code",
   "execution_count": 4,
   "metadata": {},
   "outputs": [
    {
     "data": {
      "text/html": [
       "<div>\n",
       "<style scoped>\n",
       "    .dataframe tbody tr th:only-of-type {\n",
       "        vertical-align: middle;\n",
       "    }\n",
       "\n",
       "    .dataframe tbody tr th {\n",
       "        vertical-align: top;\n",
       "    }\n",
       "\n",
       "    .dataframe thead th {\n",
       "        text-align: right;\n",
       "    }\n",
       "</style>\n",
       "<table border=\"1\" class=\"dataframe\">\n",
       "  <thead>\n",
       "    <tr style=\"text-align: right;\">\n",
       "      <th></th>\n",
       "      <th>Id</th>\n",
       "      <th>SepalLengthCm</th>\n",
       "      <th>SepalWidthCm</th>\n",
       "      <th>PetalLengthCm</th>\n",
       "      <th>PetalWidthCm</th>\n",
       "      <th>Species</th>\n",
       "    </tr>\n",
       "  </thead>\n",
       "  <tbody>\n",
       "    <tr>\n",
       "      <th>0</th>\n",
       "      <td>1</td>\n",
       "      <td>5.1</td>\n",
       "      <td>3.5</td>\n",
       "      <td>1.4</td>\n",
       "      <td>0.2</td>\n",
       "      <td>Iris-setosa</td>\n",
       "    </tr>\n",
       "    <tr>\n",
       "      <th>1</th>\n",
       "      <td>2</td>\n",
       "      <td>4.9</td>\n",
       "      <td>3.0</td>\n",
       "      <td>1.4</td>\n",
       "      <td>0.2</td>\n",
       "      <td>Iris-setosa</td>\n",
       "    </tr>\n",
       "    <tr>\n",
       "      <th>2</th>\n",
       "      <td>3</td>\n",
       "      <td>4.7</td>\n",
       "      <td>3.2</td>\n",
       "      <td>1.3</td>\n",
       "      <td>0.2</td>\n",
       "      <td>Iris-setosa</td>\n",
       "    </tr>\n",
       "    <tr>\n",
       "      <th>3</th>\n",
       "      <td>4</td>\n",
       "      <td>4.6</td>\n",
       "      <td>3.1</td>\n",
       "      <td>1.5</td>\n",
       "      <td>0.2</td>\n",
       "      <td>Iris-setosa</td>\n",
       "    </tr>\n",
       "    <tr>\n",
       "      <th>4</th>\n",
       "      <td>5</td>\n",
       "      <td>5.0</td>\n",
       "      <td>3.6</td>\n",
       "      <td>1.4</td>\n",
       "      <td>0.2</td>\n",
       "      <td>Iris-setosa</td>\n",
       "    </tr>\n",
       "  </tbody>\n",
       "</table>\n",
       "</div>"
      ],
      "text/plain": [
       "   Id  SepalLengthCm  SepalWidthCm  PetalLengthCm  PetalWidthCm      Species\n",
       "0   1            5.1           3.5            1.4           0.2  Iris-setosa\n",
       "1   2            4.9           3.0            1.4           0.2  Iris-setosa\n",
       "2   3            4.7           3.2            1.3           0.2  Iris-setosa\n",
       "3   4            4.6           3.1            1.5           0.2  Iris-setosa\n",
       "4   5            5.0           3.6            1.4           0.2  Iris-setosa"
      ]
     },
     "execution_count": 4,
     "metadata": {},
     "output_type": "execute_result"
    }
   ],
   "source": [
    "df.head()"
   ]
  },
  {
   "cell_type": "code",
   "execution_count": 5,
   "metadata": {},
   "outputs": [
    {
     "data": {
      "text/html": [
       "<div>\n",
       "<style scoped>\n",
       "    .dataframe tbody tr th:only-of-type {\n",
       "        vertical-align: middle;\n",
       "    }\n",
       "\n",
       "    .dataframe tbody tr th {\n",
       "        vertical-align: top;\n",
       "    }\n",
       "\n",
       "    .dataframe thead th {\n",
       "        text-align: right;\n",
       "    }\n",
       "</style>\n",
       "<table border=\"1\" class=\"dataframe\">\n",
       "  <thead>\n",
       "    <tr style=\"text-align: right;\">\n",
       "      <th></th>\n",
       "      <th>SepalLengthCm</th>\n",
       "      <th>SepalWidthCm</th>\n",
       "      <th>PetalLengthCm</th>\n",
       "      <th>PetalWidthCm</th>\n",
       "      <th>Species</th>\n",
       "    </tr>\n",
       "    <tr>\n",
       "      <th>Id</th>\n",
       "      <th></th>\n",
       "      <th></th>\n",
       "      <th></th>\n",
       "      <th></th>\n",
       "      <th></th>\n",
       "    </tr>\n",
       "  </thead>\n",
       "  <tbody>\n",
       "    <tr>\n",
       "      <th>74</th>\n",
       "      <td>6.1</td>\n",
       "      <td>2.8</td>\n",
       "      <td>4.7</td>\n",
       "      <td>1.2</td>\n",
       "      <td>Iris-versicolor</td>\n",
       "    </tr>\n",
       "    <tr>\n",
       "      <th>19</th>\n",
       "      <td>5.7</td>\n",
       "      <td>3.8</td>\n",
       "      <td>1.7</td>\n",
       "      <td>0.3</td>\n",
       "      <td>Iris-setosa</td>\n",
       "    </tr>\n",
       "    <tr>\n",
       "      <th>119</th>\n",
       "      <td>7.7</td>\n",
       "      <td>2.6</td>\n",
       "      <td>6.9</td>\n",
       "      <td>2.3</td>\n",
       "      <td>Iris-virginica</td>\n",
       "    </tr>\n",
       "    <tr>\n",
       "      <th>79</th>\n",
       "      <td>6.0</td>\n",
       "      <td>2.9</td>\n",
       "      <td>4.5</td>\n",
       "      <td>1.5</td>\n",
       "      <td>Iris-versicolor</td>\n",
       "    </tr>\n",
       "    <tr>\n",
       "      <th>77</th>\n",
       "      <td>6.8</td>\n",
       "      <td>2.8</td>\n",
       "      <td>4.8</td>\n",
       "      <td>1.4</td>\n",
       "      <td>Iris-versicolor</td>\n",
       "    </tr>\n",
       "  </tbody>\n",
       "</table>\n",
       "</div>"
      ],
      "text/plain": [
       "     SepalLengthCm  SepalWidthCm  PetalLengthCm  PetalWidthCm          Species\n",
       "Id                                                                            \n",
       "74             6.1           2.8            4.7           1.2  Iris-versicolor\n",
       "19             5.7           3.8            1.7           0.3      Iris-setosa\n",
       "119            7.7           2.6            6.9           2.3   Iris-virginica\n",
       "79             6.0           2.9            4.5           1.5  Iris-versicolor\n",
       "77             6.8           2.8            4.8           1.4  Iris-versicolor"
      ]
     },
     "execution_count": 5,
     "metadata": {},
     "output_type": "execute_result"
    }
   ],
   "source": [
    "df = df.sample(frac=1, random_state=42)\n",
    "df.set_index(\"Id\", inplace=True)\n",
    "df.head()"
   ]
  },
  {
   "cell_type": "markdown",
   "metadata": {},
   "source": [
    "### Data Exploration"
   ]
  },
  {
   "cell_type": "markdown",
   "metadata": {},
   "source": [
    "Como podemos ver en los histogramas, las características \"SepalLengthCm\" y \"SepalWidthCm\" tienen una distribución gaussiana. Sin embargo, las características \"PetalLengthCm\" y \"PetalWidthCm\" tienen valores considerablemente bajos seguido de un espacio sin valores y finalmente otra distribución normal.\n",
    "\n",
    "El hecho de que haya muchos valores bajos y luego una brecha tanto para la longitud como para la anchura de los pétalos nos puede dar a entender que una de las flores tiene tamaños de pétalos completamente diferente a los de las otras dos flores."
   ]
  },
  {
   "cell_type": "code",
   "execution_count": 6,
   "metadata": {},
   "outputs": [
    {
     "data": {
      "text/plain": [
       "array([[<AxesSubplot:title={'center':'SepalLengthCm'}>,\n",
       "        <AxesSubplot:title={'center':'SepalWidthCm'}>],\n",
       "       [<AxesSubplot:title={'center':'PetalLengthCm'}>,\n",
       "        <AxesSubplot:title={'center':'PetalWidthCm'}>]], dtype=object)"
      ]
     },
     "execution_count": 6,
     "metadata": {},
     "output_type": "execute_result"
    }
   ],
   "source": [
    "df.hist(bins=18, figsize=(15,10))"
   ]
  },
  {
   "cell_type": "markdown",
   "metadata": {},
   "source": [
    "Para lograr un buen modelo, vamos a analizar cuales son las características con mayor correlación:"
   ]
  },
  {
   "cell_type": "code",
   "execution_count": 7,
   "metadata": {},
   "outputs": [
    {
     "data": {
      "image/png": "[encoded data removed]",
      "text/plain": [
       "<Figure size 1500x1000 with 4 Axes>"
      ]
     },
     "metadata": {},
     "output_type": "display_data"
    },
    {
     "data": {
      "image/png": "[encoded data removed]",
      "text/plain": [
       "<Figure size 1500x1000 with 2 Axes>"
      ]
     },
     "metadata": {},
     "output_type": "display_data"
    }
   ],
   "source": [
    "plt.figure(figsize=(15,10))\n",
    "sns.heatmap(df.corr(), annot=True)\n",
    "plt.title('Visualizing correlations')\n",
    "plt.show()"
   ]
  },
  {
   "cell_type": "markdown",
   "metadata": {},
   "source": [
    "Estas tres combinaciones de características tienen los coeficientes de correlación más altos, que van de 82% a 96%. \n",
    "* PetalLengthCm x PetalWidthCm = 96%  \n",
    "* SepalLengthCm x PetalLengthCm = 87%  \n",
    "* SepalLengthCm x PetalWidthCm = 82%  "
   ]
  },
  {
   "cell_type": "code",
   "execution_count": 8,
   "metadata": {},
   "outputs": [
    {
     "data": {
      "image/png": "[encoded data removed]",
      "text/plain": [
       "<Figure size 2000x500 with 3 Axes>"
      ]
     },
     "metadata": {},
     "output_type": "display_data"
    }
   ],
   "source": [
    "plt.figure(figsize=(20, 5))\n",
    "\n",
    "features = ['PetalLengthCm', 'PetalWidthCm','PetalWidthCm']\n",
    "targets = ['SepalLengthCm', 'SepalLengthCm','PetalLengthCm']\n",
    "target = df['SepalLengthCm']\n",
    "\n",
    "for i, col in enumerate(features):\n",
    "    plt.subplot(1, len(features) , i+1)\n",
    "    x = df[features[i]]\n",
    "    y = df[targets[i]]\n",
    "    plt.scatter(x, y, marker='o')\n",
    "    plt.title(targets[i]+' x '+features[i])\n",
    "    plt.xlabel(features[i])\n",
    "    plt.ylabel(targets[i])\n",
    "plt.show()"
   ]
  },
  {
   "cell_type": "markdown",
   "metadata": {},
   "source": [
    "## 2. Data Preprocessing\n",
    "Iris ya tiene la información libre de valores nulos, dentro de una escala y lsta para trabajar.  \n",
    "Lo que falta es separar los datos de entrada y las etiquetas:\n",
    "- X => datos de entrada\n",
    "- y => datos del target o etiquetas con la respuesta"
   ]
  },
  {
   "cell_type": "code",
   "execution_count": 9,
   "metadata": {},
   "outputs": [],
   "source": [
    "X, y = df.drop(\"Species\", axis=1), df.Species"
   ]
  },
  {
   "cell_type": "code",
   "execution_count": 10,
   "metadata": {},
   "outputs": [],
   "source": [
    "# Because I will use the logistic regression model, it is necessary to normalize the data.\n",
    "from sklearn.preprocessing import StandardScaler\n",
    "standard_scaler = StandardScaler()\n",
    "X = standard_scaler.fit_transform(X)"
   ]
  },
  {
   "cell_type": "markdown",
   "metadata": {},
   "source": [
    "### División de Datos (30-70, 50-50 and 70-30).\n",
    "#### Con qué tamaño de los data sets se lograron los mejores resultados para el Test Set? "
   ]
  },
  {
   "cell_type": "code",
   "execution_count": 11,
   "metadata": {},
   "outputs": [],
   "source": [
    "from sklearn.model_selection import train_test_split\n",
    "\n",
    "\"\"\"Training the model with 70% of the data.\"\"\"\n",
    "X_train_70, X_test_70, y_train_70, y_test_70 = train_test_split(X, y, train_size=0.7, random_state=101)\n",
    "\n",
    "\"\"\"Training the model with 50% of the data.\"\"\"\n",
    "X_train_50, X_test_50, y_train_50, y_test_50 = train_test_split(X, y, train_size=0.5, random_state=101)\n",
    "\n",
    "\"\"\"Training the model with 30% of the data.\"\"\"\n",
    "X_train_30, X_test_30, y_train_30, y_test_30 = train_test_split(X, y, train_size=0.3, random_state=101)"
   ]
  },
  {
   "cell_type": "markdown",
   "metadata": {},
   "source": [
    "## 3. Creación de Modelos\n",
    "Por cada conjunto de datos, creamos un modelo."
   ]
  },
  {
   "cell_type": "code",
   "execution_count": 12,
   "metadata": {},
   "outputs": [],
   "source": [
    "from sklearn.linear_model import LogisticRegression\n",
    "log_reg_70 = LogisticRegression()\n",
    "log_reg_50 = LogisticRegression()\n",
    "log_reg_30 = LogisticRegression()"
   ]
  },
  {
   "cell_type": "markdown",
   "metadata": {},
   "source": [
    "#### Ajustar el Modelo con Datos Históricos "
   ]
  },
  {
   "cell_type": "code",
   "execution_count": 13,
   "metadata": {},
   "outputs": [
    {
     "data": {
      "text/plain": [
       "LogisticRegression()"
      ]
     },
     "execution_count": 13,
     "metadata": {},
     "output_type": "execute_result"
    }
   ],
   "source": [
    "log_reg_70.fit(X_train_70, y_train_70)\n",
    "log_reg_50.fit(X_train_50, y_train_50)\n",
    "log_reg_30.fit(X_train_30, y_train_30)"
   ]
  },
  {
   "cell_type": "markdown",
   "metadata": {},
   "source": [
    "#### Score Model "
   ]
  },
  {
   "cell_type": "code",
   "execution_count": 14,
   "metadata": {},
   "outputs": [
    {
     "data": {
      "text/html": [
       "<div>\n",
       "<style scoped>\n",
       "    .dataframe tbody tr th:only-of-type {\n",
       "        vertical-align: middle;\n",
       "    }\n",
       "\n",
       "    .dataframe tbody tr th {\n",
       "        vertical-align: top;\n",
       "    }\n",
       "\n",
       "    .dataframe thead th {\n",
       "        text-align: right;\n",
       "    }\n",
       "</style>\n",
       "<table border=\"1\" class=\"dataframe\">\n",
       "  <thead>\n",
       "    <tr style=\"text-align: right;\">\n",
       "      <th></th>\n",
       "      <th>70%</th>\n",
       "      <th>50%</th>\n",
       "      <th>30%</th>\n",
       "    </tr>\n",
       "  </thead>\n",
       "  <tbody>\n",
       "    <tr>\n",
       "      <th>Mean</th>\n",
       "      <td>0.962607</td>\n",
       "      <td>0.973684</td>\n",
       "      <td>0.958333</td>\n",
       "    </tr>\n",
       "    <tr>\n",
       "      <th>STD</th>\n",
       "      <td>0.045365</td>\n",
       "      <td>0.026316</td>\n",
       "      <td>0.072169</td>\n",
       "    </tr>\n",
       "  </tbody>\n",
       "</table>\n",
       "</div>"
      ],
      "text/plain": [
       "           70%       50%       30%\n",
       "Mean  0.962607  0.973684  0.958333\n",
       "STD   0.045365  0.026316  0.072169"
      ]
     },
     "execution_count": 14,
     "metadata": {},
     "output_type": "execute_result"
    }
   ],
   "source": [
    "from sklearn.metrics import roc_auc_score\n",
    "from sklearn.model_selection import cross_val_score\n",
    "\n",
    "scores_70 = cross_val_score(log_reg_70, X_train_70, y_train_70, cv=4, scoring=\"accuracy\")\n",
    "scores_50 = cross_val_score(log_reg_50, X_train_50, y_train_50, cv=4, scoring=\"accuracy\")\n",
    "scores_30 = cross_val_score(log_reg_30, X_train_30, y_train_30, cv=4, scoring=\"accuracy\")\n",
    "\n",
    "data = [[scores_70.mean(),scores_50.mean(),scores_30.mean()],\n",
    "        [scores_70.std(),scores_50.std(),scores_30.std()]]\n",
    "col_name = ['70%', '50%', '30%']\n",
    "\n",
    "pd.DataFrame(data, columns = col_name,\n",
    "             index=[\"Mean\", \"STD\"])"
   ]
  },
  {
   "cell_type": "markdown",
   "metadata": {},
   "source": [
    "#### Predicción para Datos Nuevos"
   ]
  },
  {
   "cell_type": "code",
   "execution_count": 15,
   "metadata": {},
   "outputs": [],
   "source": [
    "y_test_predict_70 = log_reg_70.predict(X_test_70)\n",
    "y_test_predict_50 = log_reg_50.predict(X_test_50)\n",
    "y_test_predict_30 = log_reg_30.predict(X_test_30)"
   ]
  },
  {
   "cell_type": "markdown",
   "metadata": {},
   "source": [
    "#### Score Predictions for New Data"
   ]
  },
  {
   "cell_type": "code",
   "execution_count": 16,
   "metadata": {},
   "outputs": [
    {
     "data": {
      "text/html": [
       "<div>\n",
       "<style scoped>\n",
       "    .dataframe tbody tr th:only-of-type {\n",
       "        vertical-align: middle;\n",
       "    }\n",
       "\n",
       "    .dataframe tbody tr th {\n",
       "        vertical-align: top;\n",
       "    }\n",
       "\n",
       "    .dataframe thead th {\n",
       "        text-align: right;\n",
       "    }\n",
       "</style>\n",
       "<table border=\"1\" class=\"dataframe\">\n",
       "  <thead>\n",
       "    <tr style=\"text-align: right;\">\n",
       "      <th></th>\n",
       "      <th>70%</th>\n",
       "      <th>50%</th>\n",
       "      <th>30%</th>\n",
       "    </tr>\n",
       "  </thead>\n",
       "  <tbody>\n",
       "    <tr>\n",
       "      <th>Score</th>\n",
       "      <td>93.333333</td>\n",
       "      <td>86.666667</td>\n",
       "      <td>89.52381</td>\n",
       "    </tr>\n",
       "  </tbody>\n",
       "</table>\n",
       "</div>"
      ],
      "text/plain": [
       "             70%        50%       30%\n",
       "Score  93.333333  86.666667  89.52381"
      ]
     },
     "execution_count": 16,
     "metadata": {},
     "output_type": "execute_result"
    }
   ],
   "source": [
    "from sklearn.metrics import accuracy_score\n",
    "\n",
    "data = [[accuracy_score(y_test_70, y_test_predict_70) * 100, \n",
    "         accuracy_score(y_test_50, y_test_predict_50) * 100, \n",
    "         accuracy_score(y_test_30, y_test_predict_30) * 100]]\n",
    "col_name = ['70%', '50%', '30%']\n",
    "\n",
    "pd.DataFrame(data, columns = col_name,\n",
    "             index=[\"Score\"])"
   ]
  },
  {
   "cell_type": "markdown",
   "metadata": {},
   "source": [
    "Como podemos ver, el modelo que se entrenó con el 70% de los datos fue el más preciso. Por lo tanto, en la siguiente prueba, utilizaré el 70% de los datos en la fase de entrenamiento."
   ]
  },
  {
   "cell_type": "markdown",
   "metadata": {},
   "source": [
    "## 4. Try the classifier with only one of the variables."
   ]
  },
  {
   "cell_type": "code",
   "execution_count": 17,
   "metadata": {},
   "outputs": [
    {
     "data": {
      "text/plain": [
       "Index(['SepalLengthCm', 'SepalWidthCm', 'PetalLengthCm', 'PetalWidthCm'], dtype='object')"
      ]
     },
     "execution_count": 17,
     "metadata": {},
     "output_type": "execute_result"
    }
   ],
   "source": [
    "#I'm separate the keys for better readability\n",
    "keys = df.keys()\n",
    "keys = keys.drop('Species')\n",
    "keys"
   ]
  },
  {
   "cell_type": "code",
   "execution_count": 18,
   "metadata": {},
   "outputs": [],
   "source": [
    "from itertools import combinations\n",
    "def training_comb(df, keys, n, penalty='l2', solver='lbfgs', l1_ratio=None) -> list:\n",
    "\n",
    "    scores = []\n",
    "    \n",
    "    for key in combinations(keys, n):    \n",
    "    #Separate our feature from the dataset\n",
    "        X = df[list(key)]\n",
    "        \n",
    "        #Mix the data\n",
    "        X_train, X_test, y_train, y_test = train_test_split(X, y, train_size=0.7, random_state=101)\n",
    "\n",
    "        #Create the model\n",
    "        log_reg = LogisticRegression(penalty=penalty, solver=solver, l1_ratio=l1_ratio)\n",
    "        \n",
    "        #Train the model\n",
    "        log_reg.fit(X_train, y_train)\n",
    "        \n",
    "        #Appending the results to our scores list\n",
    "        scr = cross_val_score(log_reg, X_train, y_train, cv=4, scoring=\"accuracy\")\n",
    "        scores.append((key, scr))\n",
    "                \n",
    "    return scores"
   ]
  },
  {
   "cell_type": "code",
   "execution_count": 19,
   "metadata": {},
   "outputs": [
    {
     "name": "stdout",
     "output_type": "stream",
     "text": [
      "Score using ('SepalLengthCm',):\t77.13675213675214%\n",
      "Score using ('SepalWidthCm',):\t56.232193732193736%\n",
      "Score using ('PetalLengthCm',):\t93.37606837606837%\n",
      "Score using ('PetalWidthCm',):\t94.33760683760684%\n"
     ]
    }
   ],
   "source": [
    "scores = training_comb(df, keys, 1)\n",
    "for key, score in scores:\n",
    "    print(f'Score using {key}:\\t{score.mean()*100}%')"
   ]
  },
  {
   "cell_type": "markdown",
   "metadata": {},
   "source": [
    "Las 2 características que obtienen mejores puntuaciones son PetalWidthCm y PetalLength. Esto demuestra que el tamaño del pétalo está relacionado con la especie."
   ]
  },
  {
   "cell_type": "markdown",
   "metadata": {},
   "source": [
    "## 5. Prueba el clasificador utilizando todas las combinaciones de las características"
   ]
  },
  {
   "cell_type": "markdown",
   "metadata": {},
   "source": [
    "### 2 Características"
   ]
  },
  {
   "cell_type": "code",
   "execution_count": 20,
   "metadata": {},
   "outputs": [
    {
     "name": "stdout",
     "output_type": "stream",
     "text": [
      "Score using ('SepalLengthCm', 'SepalWidthCm'):\t81.94444444444446%\n",
      "Score using ('SepalLengthCm', 'PetalLengthCm'):\t94.33760683760684%\n",
      "Score using ('SepalLengthCm', 'PetalWidthCm'):\t92.41452991452992%\n",
      "Score using ('SepalWidthCm', 'PetalLengthCm'):\t93.37606837606837%\n",
      "Score using ('SepalWidthCm', 'PetalWidthCm'):\t94.30199430199431%\n",
      "Score using ('PetalLengthCm', 'PetalWidthCm'):\t98.14814814814815%\n"
     ]
    }
   ],
   "source": [
    "scores = training_comb(df, keys, 2)\n",
    "for key, score in scores:\n",
    "    print(f'Score using {key}:\\t{score.mean()*100}%')"
   ]
  },
  {
   "cell_type": "markdown",
   "metadata": {},
   "source": [
    "Las 2 características que obtienen mejores puntuaciones son PetalLengthCm y PetalWidthCm."
   ]
  },
  {
   "cell_type": "markdown",
   "metadata": {},
   "source": [
    "### 3 Características"
   ]
  },
  {
   "cell_type": "code",
   "execution_count": 21,
   "metadata": {},
   "outputs": [
    {
     "name": "stdout",
     "output_type": "stream",
     "text": [
      "Score using ('SepalLengthCm', 'SepalWidthCm', 'PetalLengthCm'):\t92.41452991452992%\n",
      "Score using ('SepalLengthCm', 'SepalWidthCm', 'PetalWidthCm'):\t94.33760683760684%\n",
      "Score using ('SepalLengthCm', 'PetalLengthCm', 'PetalWidthCm'):\t97.1866096866097%\n",
      "Score using ('SepalWidthCm', 'PetalLengthCm', 'PetalWidthCm'):\t96.26068376068376%\n"
     ]
    }
   ],
   "source": [
    "scores = training_comb(df, keys, 3)\n",
    "for key, score in scores:\n",
    "    print(f'Score using {key}:\\t{score.mean()*100}%')"
   ]
  },
  {
   "cell_type": "markdown",
   "metadata": {},
   "source": [
    "Las 3 características que obtienen mejores puntuaciones son SepalLengthCm, PetalLengthCm y PetalWidthCm."
   ]
  },
  {
   "cell_type": "markdown",
   "metadata": {},
   "source": [
    "### Con qué combinaciones de variables se lograron los mejores resultados?\n",
    "Como es de esperar, el uso de las características del tamaño de los pétalos arroja mejores resultados que el tamaño de los sépalos, alcanzando un 97% de precisión. Sin embargo, si se utiliza sólo la longitud del pétalo se obtiene la misma precisión que si se utilizan todas las características. Por ello, podemos concluir que la longitud del pétalo es la característica más importante, y quizá la única necesaria."
   ]
  },
  {
   "cell_type": "markdown",
   "metadata": {},
   "source": [
    "## Try the classifier with all the penalities methods and without them.\n",
    "### Cómo se lograron los mejores resultados?  \n",
    "Usando elasticnet"
   ]
  },
  {
   "cell_type": "code",
   "execution_count": 22,
   "metadata": {},
   "outputs": [
    {
     "name": "stdout",
     "output_type": "stream",
     "text": [
      "Score using l2:\t96.26068376068376%\n",
      "Score using l1:\t97.15099715099716%\n",
      "Score using elasticnet:\t98.11253561253561%\n",
      "Score using none:\t96.18945868945869%\n"
     ]
    }
   ],
   "source": [
    "import warnings\n",
    "warnings.filterwarnings('ignore')\n",
    "\n",
    "penalties = [\n",
    "    ('l2', 'lbfgs', None), \n",
    "    ('l1', 'saga', None), \n",
    "    ('elasticnet', 'saga', 0.5), \n",
    "    ('none', 'lbfgs', None)\n",
    "]\n",
    "\n",
    "for penalty, solver, l1_ratio in penalties:\n",
    "    key, score = training_comb(df, keys, 4, penalty=penalty, solver=solver, l1_ratio=l1_ratio)[0]\n",
    "    \n",
    "    print(f'Score using {penalty}:\\t{score.mean()* 100}%')"
   ]
  }
 ],
 "metadata": {
  "interpreter": {
   "hash": "33c47731e5c0269a930bc35e3b09cbb029a43ec2f78276dd74258da08c7305d6"
  },
  "kernelspec": {
   "display_name": "Python 3",
   "language": "python",
   "name": "python3"
  },
  "language_info": {
   "codemirror_mode": {
    "name": "ipython",
    "version": 3
   },
   "file_extension": ".py",
   "mimetype": "text/x-python",
   "name": "python",
   "nbconvert_exporter": "python",
   "pygments_lexer": "ipython3",
   "version": "3.8.5"
  }
 },
 "nbformat": 4,
 "nbformat_minor": 2
}
